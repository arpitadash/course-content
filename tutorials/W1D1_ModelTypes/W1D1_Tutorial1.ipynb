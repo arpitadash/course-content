{
  "nbformat": 4,
  "nbformat_minor": 0,
  "metadata": {
    "colab": {
      "name": "W1D1_Tutorial1",
      "provenance": [],
      "collapsed_sections": [],
      "include_colab_link": true
    },
    "kernel": {
      "display_name": "Python 3",
      "language": "python",
      "name": "python3"
    },
    "kernelspec": {
      "display_name": "Python 3",
      "name": "python3"
    },
    "language_info": {
      "codemirror_mode": {
        "name": "ipython",
        "version": 3
      },
      "file_extension": ".py",
      "mimetype": "text/x-python",
      "name": "python",
      "nbconvert_exporter": "python",
      "pygments_lexer": "ipython3",
      "version": "3.7.10"
    },
    "widgets": {
      "application/vnd.jupyter.widget-state+json": {
        "c8eaa559060f4d70b48b182688cb7d86": {
          "model_module": "@jupyter-widgets/controls",
          "model_name": "TabModel",
          "state": {
            "_view_name": "TabView",
            "_dom_classes": [],
            "_titles": {
              "0": "Youtube",
              "1": "Bilibili"
            },
            "_model_name": "TabModel",
            "_view_module": "@jupyter-widgets/controls",
            "selected_index": 0,
            "_model_module_version": "1.5.0",
            "_view_count": null,
            "_view_module_version": "1.5.0",
            "box_style": "",
            "layout": "IPY_MODEL_11758ce4155c47bc80836e0fe2140251",
            "_model_module": "@jupyter-widgets/controls",
            "children": [
              "IPY_MODEL_d7ccad369f9e4fdd86885deaaf9791cf",
              "IPY_MODEL_777a8d9596ec4680b4301490ed044609"
            ]
          }
        },
        "11758ce4155c47bc80836e0fe2140251": {
          "model_module": "@jupyter-widgets/base",
          "model_name": "LayoutModel",
          "state": {
            "_view_name": "LayoutView",
            "grid_template_rows": null,
            "right": null,
            "justify_content": null,
            "_view_module": "@jupyter-widgets/base",
            "overflow": null,
            "_model_module_version": "1.2.0",
            "_view_count": null,
            "flex_flow": null,
            "width": null,
            "min_width": null,
            "border": null,
            "align_items": null,
            "bottom": null,
            "_model_module": "@jupyter-widgets/base",
            "top": null,
            "grid_column": null,
            "overflow_y": null,
            "overflow_x": null,
            "grid_auto_flow": null,
            "grid_area": null,
            "grid_template_columns": null,
            "flex": null,
            "_model_name": "LayoutModel",
            "justify_items": null,
            "grid_row": null,
            "max_height": null,
            "align_content": null,
            "visibility": null,
            "align_self": null,
            "height": null,
            "min_height": null,
            "padding": null,
            "grid_auto_rows": null,
            "grid_gap": null,
            "max_width": null,
            "order": null,
            "_view_module_version": "1.2.0",
            "grid_template_areas": null,
            "object_position": null,
            "object_fit": null,
            "grid_auto_columns": null,
            "margin": null,
            "display": null,
            "left": null
          }
        },
        "d7ccad369f9e4fdd86885deaaf9791cf": {
          "model_module": "@jupyter-widgets/output",
          "model_name": "OutputModel",
          "state": {
            "_view_name": "OutputView",
            "msg_id": "",
            "_dom_classes": [],
            "_model_name": "OutputModel",
            "outputs": [
              {
                "output_type": "stream",
                "metadata": {
                  "tags": []
                },
                "text": "Video available at https://youtube.com/watch?v=KgqR_jbjMQg\n",
                "stream": "stdout"
              },
              {
                "output_type": "display_data",
                "metadata": {
                  "tags": []
                },
                "text/html": "\n        <iframe\n            width=\"854\"\n            height=\"480\"\n            src=\"https://www.youtube.com/embed/KgqR_jbjMQg?fs=1&rel=0\"\n            frameborder=\"0\"\n            allowfullscreen\n        ></iframe>\n        ",
                "text/plain": "<IPython.lib.display.YouTubeVideo at 0x7fbefbfd98d0>",
                "image/jpeg": "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\n"
              }
            ],
            "_view_module": "@jupyter-widgets/output",
            "_model_module_version": "1.0.0",
            "_view_count": null,
            "_view_module_version": "1.0.0",
            "layout": "IPY_MODEL_91fb76a6b5ec4f88b2ab9388e5e368b6",
            "_model_module": "@jupyter-widgets/output"
          }
        },
        "777a8d9596ec4680b4301490ed044609": {
          "model_module": "@jupyter-widgets/output",
          "model_name": "OutputModel",
          "state": {
            "_view_name": "OutputView",
            "msg_id": "",
            "_dom_classes": [],
            "_model_name": "OutputModel",
            "outputs": [
              {
                "output_type": "stream",
                "metadata": {
                  "tags": []
                },
                "text": "Video available at https://www.bilibili.com/video/BV1mz4y1X7ot\n",
                "stream": "stdout"
              },
              {
                "output_type": "display_data",
                "metadata": {
                  "tags": []
                },
                "text/html": "\n        <iframe\n            width=\"854\"\n            height=\"480\"\n            src=\"https://player.bilibili.com/player.html?bvid=BV1mz4y1X7ot&page=1?fs=1\"\n            frameborder=\"0\"\n            allowfullscreen\n        ></iframe>\n        ",
                "text/plain": "<__main__.BiliVideo at 0x7fbefbfd9bd0>"
              }
            ],
            "_view_module": "@jupyter-widgets/output",
            "_model_module_version": "1.0.0",
            "_view_count": null,
            "_view_module_version": "1.0.0",
            "layout": "IPY_MODEL_4fea8179674d4844a82ed8caa6951ae6",
            "_model_module": "@jupyter-widgets/output"
          }
        },
        "91fb76a6b5ec4f88b2ab9388e5e368b6": {
          "model_module": "@jupyter-widgets/base",
          "model_name": "LayoutModel",
          "state": {
            "_view_name": "LayoutView",
            "grid_template_rows": null,
            "right": null,
            "justify_content": null,
            "_view_module": "@jupyter-widgets/base",
            "overflow": null,
            "_model_module_version": "1.2.0",
            "_view_count": null,
            "flex_flow": null,
            "width": null,
            "min_width": null,
            "border": null,
            "align_items": null,
            "bottom": null,
            "_model_module": "@jupyter-widgets/base",
            "top": null,
            "grid_column": null,
            "overflow_y": null,
            "overflow_x": null,
            "grid_auto_flow": null,
            "grid_area": null,
            "grid_template_columns": null,
            "flex": null,
            "_model_name": "LayoutModel",
            "justify_items": null,
            "grid_row": null,
            "max_height": null,
            "align_content": null,
            "visibility": null,
            "align_self": null,
            "height": null,
            "min_height": null,
            "padding": null,
            "grid_auto_rows": null,
            "grid_gap": null,
            "max_width": null,
            "order": null,
            "_view_module_version": "1.2.0",
            "grid_template_areas": null,
            "object_position": null,
            "object_fit": null,
            "grid_auto_columns": null,
            "margin": null,
            "display": null,
            "left": null
          }
        },
        "4fea8179674d4844a82ed8caa6951ae6": {
          "model_module": "@jupyter-widgets/base",
          "model_name": "LayoutModel",
          "state": {
            "_view_name": "LayoutView",
            "grid_template_rows": null,
            "right": null,
            "justify_content": null,
            "_view_module": "@jupyter-widgets/base",
            "overflow": null,
            "_model_module_version": "1.2.0",
            "_view_count": null,
            "flex_flow": null,
            "width": null,
            "min_width": null,
            "border": null,
            "align_items": null,
            "bottom": null,
            "_model_module": "@jupyter-widgets/base",
            "top": null,
            "grid_column": null,
            "overflow_y": null,
            "overflow_x": null,
            "grid_auto_flow": null,
            "grid_area": null,
            "grid_template_columns": null,
            "flex": null,
            "_model_name": "LayoutModel",
            "justify_items": null,
            "grid_row": null,
            "max_height": null,
            "align_content": null,
            "visibility": null,
            "align_self": null,
            "height": null,
            "min_height": null,
            "padding": null,
            "grid_auto_rows": null,
            "grid_gap": null,
            "max_width": null,
            "order": null,
            "_view_module_version": "1.2.0",
            "grid_template_areas": null,
            "object_position": null,
            "object_fit": null,
            "grid_auto_columns": null,
            "margin": null,
            "display": null,
            "left": null
          }
        },
        "0839747fe3274d87b116a5360007cb5c": {
          "model_module": "@jupyter-widgets/controls",
          "model_name": "TabModel",
          "state": {
            "_view_name": "TabView",
            "_dom_classes": [],
            "_titles": {
              "0": "Youtube",
              "1": "Bilibili"
            },
            "_model_name": "TabModel",
            "_view_module": "@jupyter-widgets/controls",
            "selected_index": 0,
            "_model_module_version": "1.5.0",
            "_view_count": null,
            "_view_module_version": "1.5.0",
            "box_style": "",
            "layout": "IPY_MODEL_f2e5c5eddffa47a394fa096cd33163c4",
            "_model_module": "@jupyter-widgets/controls",
            "children": [
              "IPY_MODEL_f489041cb2cc421cb86db979c18fd711",
              "IPY_MODEL_f4f1d228326a4457a65a391a0ca5d33e"
            ]
          }
        },
        "f2e5c5eddffa47a394fa096cd33163c4": {
          "model_module": "@jupyter-widgets/base",
          "model_name": "LayoutModel",
          "state": {
            "_view_name": "LayoutView",
            "grid_template_rows": null,
            "right": null,
            "justify_content": null,
            "_view_module": "@jupyter-widgets/base",
            "overflow": null,
            "_model_module_version": "1.2.0",
            "_view_count": null,
            "flex_flow": null,
            "width": null,
            "min_width": null,
            "border": null,
            "align_items": null,
            "bottom": null,
            "_model_module": "@jupyter-widgets/base",
            "top": null,
            "grid_column": null,
            "overflow_y": null,
            "overflow_x": null,
            "grid_auto_flow": null,
            "grid_area": null,
            "grid_template_columns": null,
            "flex": null,
            "_model_name": "LayoutModel",
            "justify_items": null,
            "grid_row": null,
            "max_height": null,
            "align_content": null,
            "visibility": null,
            "align_self": null,
            "height": null,
            "min_height": null,
            "padding": null,
            "grid_auto_rows": null,
            "grid_gap": null,
            "max_width": null,
            "order": null,
            "_view_module_version": "1.2.0",
            "grid_template_areas": null,
            "object_position": null,
            "object_fit": null,
            "grid_auto_columns": null,
            "margin": null,
            "display": null,
            "left": null
          }
        },
        "f489041cb2cc421cb86db979c18fd711": {
          "model_module": "@jupyter-widgets/output",
          "model_name": "OutputModel",
          "state": {
            "_view_name": "OutputView",
            "msg_id": "",
            "_dom_classes": [],
            "_model_name": "OutputModel",
            "outputs": [
              {
                "output_type": "stream",
                "metadata": {
                  "tags": []
                },
                "text": "Video available at https://youtube.com/watch?v=oHwYWUI_o1U\n",
                "stream": "stdout"
              },
              {
                "output_type": "display_data",
                "metadata": {
                  "tags": []
                },
                "text/html": "\n        <iframe\n            width=\"854\"\n            height=\"480\"\n            src=\"https://www.youtube.com/embed/oHwYWUI_o1U?fs=1&rel=0\"\n            frameborder=\"0\"\n            allowfullscreen\n        ></iframe>\n        ",
                "text/plain": "<IPython.lib.display.YouTubeVideo at 0x7fbefb89e910>",
                "image/jpeg": "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\n"
              }
            ],
            "_view_module": "@jupyter-widgets/output",
            "_model_module_version": "1.0.0",
            "_view_count": null,
            "_view_module_version": "1.0.0",
            "layout": "IPY_MODEL_b52fdca5d3c14aa691be5b81ef340d92",
            "_model_module": "@jupyter-widgets/output"
          }
        },
        "f4f1d228326a4457a65a391a0ca5d33e": {
          "model_module": "@jupyter-widgets/output",
          "model_name": "OutputModel",
          "state": {
            "_view_name": "OutputView",
            "msg_id": "",
            "_dom_classes": [],
            "_model_name": "OutputModel",
            "outputs": [
              {
                "output_type": "stream",
                "metadata": {
                  "tags": []
                },
                "text": "Video available at https://www.bilibili.com/video/BV1Hp4y1S7Au\n",
                "stream": "stdout"
              },
              {
                "output_type": "display_data",
                "metadata": {
                  "tags": []
                },
                "text/html": "\n        <iframe\n            width=\"854\"\n            height=\"480\"\n            src=\"https://player.bilibili.com/player.html?bvid=BV1Hp4y1S7Au&page=1?fs=1\"\n            frameborder=\"0\"\n            allowfullscreen\n        ></iframe>\n        ",
                "text/plain": "<__main__.BiliVideo at 0x7fbf02e345d0>"
              }
            ],
            "_view_module": "@jupyter-widgets/output",
            "_model_module_version": "1.0.0",
            "_view_count": null,
            "_view_module_version": "1.0.0",
            "layout": "IPY_MODEL_6cdfefa65c5748a383c8c1097ea895cf",
            "_model_module": "@jupyter-widgets/output"
          }
        },
        "b52fdca5d3c14aa691be5b81ef340d92": {
          "model_module": "@jupyter-widgets/base",
          "model_name": "LayoutModel",
          "state": {
            "_view_name": "LayoutView",
            "grid_template_rows": null,
            "right": null,
            "justify_content": null,
            "_view_module": "@jupyter-widgets/base",
            "overflow": null,
            "_model_module_version": "1.2.0",
            "_view_count": null,
            "flex_flow": null,
            "width": null,
            "min_width": null,
            "border": null,
            "align_items": null,
            "bottom": null,
            "_model_module": "@jupyter-widgets/base",
            "top": null,
            "grid_column": null,
            "overflow_y": null,
            "overflow_x": null,
            "grid_auto_flow": null,
            "grid_area": null,
            "grid_template_columns": null,
            "flex": null,
            "_model_name": "LayoutModel",
            "justify_items": null,
            "grid_row": null,
            "max_height": null,
            "align_content": null,
            "visibility": null,
            "align_self": null,
            "height": null,
            "min_height": null,
            "padding": null,
            "grid_auto_rows": null,
            "grid_gap": null,
            "max_width": null,
            "order": null,
            "_view_module_version": "1.2.0",
            "grid_template_areas": null,
            "object_position": null,
            "object_fit": null,
            "grid_auto_columns": null,
            "margin": null,
            "display": null,
            "left": null
          }
        },
        "6cdfefa65c5748a383c8c1097ea895cf": {
          "model_module": "@jupyter-widgets/base",
          "model_name": "LayoutModel",
          "state": {
            "_view_name": "LayoutView",
            "grid_template_rows": null,
            "right": null,
            "justify_content": null,
            "_view_module": "@jupyter-widgets/base",
            "overflow": null,
            "_model_module_version": "1.2.0",
            "_view_count": null,
            "flex_flow": null,
            "width": null,
            "min_width": null,
            "border": null,
            "align_items": null,
            "bottom": null,
            "_model_module": "@jupyter-widgets/base",
            "top": null,
            "grid_column": null,
            "overflow_y": null,
            "overflow_x": null,
            "grid_auto_flow": null,
            "grid_area": null,
            "grid_template_columns": null,
            "flex": null,
            "_model_name": "LayoutModel",
            "justify_items": null,
            "grid_row": null,
            "max_height": null,
            "align_content": null,
            "visibility": null,
            "align_self": null,
            "height": null,
            "min_height": null,
            "padding": null,
            "grid_auto_rows": null,
            "grid_gap": null,
            "max_width": null,
            "order": null,
            "_view_module_version": "1.2.0",
            "grid_template_areas": null,
            "object_position": null,
            "object_fit": null,
            "grid_auto_columns": null,
            "margin": null,
            "display": null,
            "left": null
          }
        },
        "ed36fc4a160c44a58161907497cd08c7": {
          "model_module": "@jupyter-widgets/controls",
          "model_name": "TabModel",
          "state": {
            "_view_name": "TabView",
            "_dom_classes": [],
            "_titles": {
              "0": "Youtube",
              "1": "Bilibili"
            },
            "_model_name": "TabModel",
            "_view_module": "@jupyter-widgets/controls",
            "selected_index": 0,
            "_model_module_version": "1.5.0",
            "_view_count": null,
            "_view_module_version": "1.5.0",
            "box_style": "",
            "layout": "IPY_MODEL_9fa0e989bae149b78ed82b6a9683ac7f",
            "_model_module": "@jupyter-widgets/controls",
            "children": [
              "IPY_MODEL_fb8cf92a0a9846f985b97c4f7975eb3f",
              "IPY_MODEL_e6617e9cef1a49b68be0572e8053bf56"
            ]
          }
        },
        "9fa0e989bae149b78ed82b6a9683ac7f": {
          "model_module": "@jupyter-widgets/base",
          "model_name": "LayoutModel",
          "state": {
            "_view_name": "LayoutView",
            "grid_template_rows": null,
            "right": null,
            "justify_content": null,
            "_view_module": "@jupyter-widgets/base",
            "overflow": null,
            "_model_module_version": "1.2.0",
            "_view_count": null,
            "flex_flow": null,
            "width": null,
            "min_width": null,
            "border": null,
            "align_items": null,
            "bottom": null,
            "_model_module": "@jupyter-widgets/base",
            "top": null,
            "grid_column": null,
            "overflow_y": null,
            "overflow_x": null,
            "grid_auto_flow": null,
            "grid_area": null,
            "grid_template_columns": null,
            "flex": null,
            "_model_name": "LayoutModel",
            "justify_items": null,
            "grid_row": null,
            "max_height": null,
            "align_content": null,
            "visibility": null,
            "align_self": null,
            "height": null,
            "min_height": null,
            "padding": null,
            "grid_auto_rows": null,
            "grid_gap": null,
            "max_width": null,
            "order": null,
            "_view_module_version": "1.2.0",
            "grid_template_areas": null,
            "object_position": null,
            "object_fit": null,
            "grid_auto_columns": null,
            "margin": null,
            "display": null,
            "left": null
          }
        },
        "fb8cf92a0a9846f985b97c4f7975eb3f": {
          "model_module": "@jupyter-widgets/output",
          "model_name": "OutputModel",
          "state": {
            "_view_name": "OutputView",
            "msg_id": "",
            "_dom_classes": [],
            "_model_name": "OutputModel",
            "outputs": [
              {
                "output_type": "stream",
                "metadata": {
                  "tags": []
                },
                "text": "Video available at https://youtube.com/watch?v=QGA5FCW7kkA\n",
                "stream": "stdout"
              },
              {
                "output_type": "display_data",
                "metadata": {
                  "tags": []
                },
                "text/html": "\n        <iframe\n            width=\"854\"\n            height=\"480\"\n            src=\"https://www.youtube.com/embed/QGA5FCW7kkA?fs=1&rel=0\"\n            frameborder=\"0\"\n            allowfullscreen\n        ></iframe>\n        ",
                "text/plain": "<IPython.lib.display.YouTubeVideo at 0x7fbefb89e910>",
                "image/jpeg": "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\n"
              }
            ],
            "_view_module": "@jupyter-widgets/output",
            "_model_module_version": "1.0.0",
            "_view_count": null,
            "_view_module_version": "1.0.0",
            "layout": "IPY_MODEL_ec231abd109b4cffbd0dc854feb87b33",
            "_model_module": "@jupyter-widgets/output"
          }
        },
        "e6617e9cef1a49b68be0572e8053bf56": {
          "model_module": "@jupyter-widgets/output",
          "model_name": "OutputModel",
          "state": {
            "_view_name": "OutputView",
            "msg_id": "",
            "_dom_classes": [],
            "_model_name": "OutputModel",
            "outputs": [
              {
                "output_type": "stream",
                "metadata": {
                  "tags": []
                },
                "text": "Video available at https://www.bilibili.com/video/BV1dt4y1Q7C5\n",
                "stream": "stdout"
              },
              {
                "output_type": "display_data",
                "metadata": {
                  "tags": []
                },
                "text/html": "\n        <iframe\n            width=\"854\"\n            height=\"480\"\n            src=\"https://player.bilibili.com/player.html?bvid=BV1dt4y1Q7C5&page=1?fs=1\"\n            frameborder=\"0\"\n            allowfullscreen\n        ></iframe>\n        ",
                "text/plain": "<__main__.BiliVideo at 0x7fbeed065450>"
              }
            ],
            "_view_module": "@jupyter-widgets/output",
            "_model_module_version": "1.0.0",
            "_view_count": null,
            "_view_module_version": "1.0.0",
            "layout": "IPY_MODEL_7dcc3be3c51c49b28df7e8100ad4b76e",
            "_model_module": "@jupyter-widgets/output"
          }
        },
        "ec231abd109b4cffbd0dc854feb87b33": {
          "model_module": "@jupyter-widgets/base",
          "model_name": "LayoutModel",
          "state": {
            "_view_name": "LayoutView",
            "grid_template_rows": null,
            "right": null,
            "justify_content": null,
            "_view_module": "@jupyter-widgets/base",
            "overflow": null,
            "_model_module_version": "1.2.0",
            "_view_count": null,
            "flex_flow": null,
            "width": null,
            "min_width": null,
            "border": null,
            "align_items": null,
            "bottom": null,
            "_model_module": "@jupyter-widgets/base",
            "top": null,
            "grid_column": null,
            "overflow_y": null,
            "overflow_x": null,
            "grid_auto_flow": null,
            "grid_area": null,
            "grid_template_columns": null,
            "flex": null,
            "_model_name": "LayoutModel",
            "justify_items": null,
            "grid_row": null,
            "max_height": null,
            "align_content": null,
            "visibility": null,
            "align_self": null,
            "height": null,
            "min_height": null,
            "padding": null,
            "grid_auto_rows": null,
            "grid_gap": null,
            "max_width": null,
            "order": null,
            "_view_module_version": "1.2.0",
            "grid_template_areas": null,
            "object_position": null,
            "object_fit": null,
            "grid_auto_columns": null,
            "margin": null,
            "display": null,
            "left": null
          }
        },
        "7dcc3be3c51c49b28df7e8100ad4b76e": {
          "model_module": "@jupyter-widgets/base",
          "model_name": "LayoutModel",
          "state": {
            "_view_name": "LayoutView",
            "grid_template_rows": null,
            "right": null,
            "justify_content": null,
            "_view_module": "@jupyter-widgets/base",
            "overflow": null,
            "_model_module_version": "1.2.0",
            "_view_count": null,
            "flex_flow": null,
            "width": null,
            "min_width": null,
            "border": null,
            "align_items": null,
            "bottom": null,
            "_model_module": "@jupyter-widgets/base",
            "top": null,
            "grid_column": null,
            "overflow_y": null,
            "overflow_x": null,
            "grid_auto_flow": null,
            "grid_area": null,
            "grid_template_columns": null,
            "flex": null,
            "_model_name": "LayoutModel",
            "justify_items": null,
            "grid_row": null,
            "max_height": null,
            "align_content": null,
            "visibility": null,
            "align_self": null,
            "height": null,
            "min_height": null,
            "padding": null,
            "grid_auto_rows": null,
            "grid_gap": null,
            "max_width": null,
            "order": null,
            "_view_module_version": "1.2.0",
            "grid_template_areas": null,
            "object_position": null,
            "object_fit": null,
            "grid_auto_columns": null,
            "margin": null,
            "display": null,
            "left": null
          }
        },
        "64a29bb7b2b14dc69fc3631e4054d7b2": {
          "model_module": "@jupyter-widgets/controls",
          "model_name": "TabModel",
          "state": {
            "_view_name": "TabView",
            "_dom_classes": [],
            "_titles": {
              "0": "Youtube",
              "1": "Bilibili"
            },
            "_model_name": "TabModel",
            "_view_module": "@jupyter-widgets/controls",
            "selected_index": 0,
            "_model_module_version": "1.5.0",
            "_view_count": null,
            "_view_module_version": "1.5.0",
            "box_style": "",
            "layout": "IPY_MODEL_5e7cd07e6d4f472c86901c0cd134c2c6",
            "_model_module": "@jupyter-widgets/controls",
            "children": [
              "IPY_MODEL_04b4128d91134b7a8d80ff9f98b76db4",
              "IPY_MODEL_6920db2b520746d8af410a54ca78f27b"
            ]
          }
        },
        "5e7cd07e6d4f472c86901c0cd134c2c6": {
          "model_module": "@jupyter-widgets/base",
          "model_name": "LayoutModel",
          "state": {
            "_view_name": "LayoutView",
            "grid_template_rows": null,
            "right": null,
            "justify_content": null,
            "_view_module": "@jupyter-widgets/base",
            "overflow": null,
            "_model_module_version": "1.2.0",
            "_view_count": null,
            "flex_flow": null,
            "width": null,
            "min_width": null,
            "border": null,
            "align_items": null,
            "bottom": null,
            "_model_module": "@jupyter-widgets/base",
            "top": null,
            "grid_column": null,
            "overflow_y": null,
            "overflow_x": null,
            "grid_auto_flow": null,
            "grid_area": null,
            "grid_template_columns": null,
            "flex": null,
            "_model_name": "LayoutModel",
            "justify_items": null,
            "grid_row": null,
            "max_height": null,
            "align_content": null,
            "visibility": null,
            "align_self": null,
            "height": null,
            "min_height": null,
            "padding": null,
            "grid_auto_rows": null,
            "grid_gap": null,
            "max_width": null,
            "order": null,
            "_view_module_version": "1.2.0",
            "grid_template_areas": null,
            "object_position": null,
            "object_fit": null,
            "grid_auto_columns": null,
            "margin": null,
            "display": null,
            "left": null
          }
        },
        "04b4128d91134b7a8d80ff9f98b76db4": {
          "model_module": "@jupyter-widgets/output",
          "model_name": "OutputModel",
          "state": {
            "_view_name": "OutputView",
            "msg_id": "",
            "_dom_classes": [],
            "_model_name": "OutputModel",
            "outputs": [
              {
                "output_type": "stream",
                "metadata": {
                  "tags": []
                },
                "text": "Video available at https://youtube.com/watch?v=DHhM80MOTe8\n",
                "stream": "stdout"
              },
              {
                "output_type": "display_data",
                "metadata": {
                  "tags": []
                },
                "text/html": "\n        <iframe\n            width=\"854\"\n            height=\"480\"\n            src=\"https://www.youtube.com/embed/DHhM80MOTe8?fs=1&rel=0\"\n            frameborder=\"0\"\n            allowfullscreen\n        ></iframe>\n        ",
                "text/plain": "<IPython.lib.display.YouTubeVideo at 0x7fbef1b69b90>",
                "image/jpeg": "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\n"
              }
            ],
            "_view_module": "@jupyter-widgets/output",
            "_model_module_version": "1.0.0",
            "_view_count": null,
            "_view_module_version": "1.0.0",
            "layout": "IPY_MODEL_02d3079ea5d948c1ab91b1120fd4df20",
            "_model_module": "@jupyter-widgets/output"
          }
        },
        "6920db2b520746d8af410a54ca78f27b": {
          "model_module": "@jupyter-widgets/output",
          "model_name": "OutputModel",
          "state": {
            "_view_name": "OutputView",
            "msg_id": "",
            "_dom_classes": [],
            "_model_name": "OutputModel",
            "outputs": [
              {
                "output_type": "stream",
                "metadata": {
                  "tags": []
                },
                "text": "Video available at https://www.bilibili.com/video/BV1ov411B7Pm\n",
                "stream": "stdout"
              },
              {
                "output_type": "display_data",
                "metadata": {
                  "tags": []
                },
                "text/html": "\n        <iframe\n            width=\"854\"\n            height=\"480\"\n            src=\"https://player.bilibili.com/player.html?bvid=BV1ov411B7Pm&page=1?fs=1\"\n            frameborder=\"0\"\n            allowfullscreen\n        ></iframe>\n        ",
                "text/plain": "<__main__.BiliVideo at 0x7fbeed71b790>"
              }
            ],
            "_view_module": "@jupyter-widgets/output",
            "_model_module_version": "1.0.0",
            "_view_count": null,
            "_view_module_version": "1.0.0",
            "layout": "IPY_MODEL_05e61a468a844d089792eaf480d1f6f5",
            "_model_module": "@jupyter-widgets/output"
          }
        },
        "02d3079ea5d948c1ab91b1120fd4df20": {
          "model_module": "@jupyter-widgets/base",
          "model_name": "LayoutModel",
          "state": {
            "_view_name": "LayoutView",
            "grid_template_rows": null,
            "right": null,
            "justify_content": null,
            "_view_module": "@jupyter-widgets/base",
            "overflow": null,
            "_model_module_version": "1.2.0",
            "_view_count": null,
            "flex_flow": null,
            "width": null,
            "min_width": null,
            "border": null,
            "align_items": null,
            "bottom": null,
            "_model_module": "@jupyter-widgets/base",
            "top": null,
            "grid_column": null,
            "overflow_y": null,
            "overflow_x": null,
            "grid_auto_flow": null,
            "grid_area": null,
            "grid_template_columns": null,
            "flex": null,
            "_model_name": "LayoutModel",
            "justify_items": null,
            "grid_row": null,
            "max_height": null,
            "align_content": null,
            "visibility": null,
            "align_self": null,
            "height": null,
            "min_height": null,
            "padding": null,
            "grid_auto_rows": null,
            "grid_gap": null,
            "max_width": null,
            "order": null,
            "_view_module_version": "1.2.0",
            "grid_template_areas": null,
            "object_position": null,
            "object_fit": null,
            "grid_auto_columns": null,
            "margin": null,
            "display": null,
            "left": null
          }
        },
        "05e61a468a844d089792eaf480d1f6f5": {
          "model_module": "@jupyter-widgets/base",
          "model_name": "LayoutModel",
          "state": {
            "_view_name": "LayoutView",
            "grid_template_rows": null,
            "right": null,
            "justify_content": null,
            "_view_module": "@jupyter-widgets/base",
            "overflow": null,
            "_model_module_version": "1.2.0",
            "_view_count": null,
            "flex_flow": null,
            "width": null,
            "min_width": null,
            "border": null,
            "align_items": null,
            "bottom": null,
            "_model_module": "@jupyter-widgets/base",
            "top": null,
            "grid_column": null,
            "overflow_y": null,
            "overflow_x": null,
            "grid_auto_flow": null,
            "grid_area": null,
            "grid_template_columns": null,
            "flex": null,
            "_model_name": "LayoutModel",
            "justify_items": null,
            "grid_row": null,
            "max_height": null,
            "align_content": null,
            "visibility": null,
            "align_self": null,
            "height": null,
            "min_height": null,
            "padding": null,
            "grid_auto_rows": null,
            "grid_gap": null,
            "max_width": null,
            "order": null,
            "_view_module_version": "1.2.0",
            "grid_template_areas": null,
            "object_position": null,
            "object_fit": null,
            "grid_auto_columns": null,
            "margin": null,
            "display": null,
            "left": null
          }
        },
        "78113d9589bf495abb9079ebff3f6e30": {
          "model_module": "@jupyter-widgets/controls",
          "model_name": "VBoxModel",
          "state": {
            "_view_name": "VBoxView",
            "_dom_classes": [
              "widget-interact"
            ],
            "_model_name": "VBoxModel",
            "_view_module": "@jupyter-widgets/controls",
            "_model_module_version": "1.5.0",
            "_view_count": null,
            "_view_module_version": "1.5.0",
            "box_style": "",
            "layout": "IPY_MODEL_e98da0eb2f6440f0a99a8609bfd604a1",
            "_model_module": "@jupyter-widgets/controls",
            "children": [
              "IPY_MODEL_8f49b2c7a9bf4aa984548a695e21727d",
              "IPY_MODEL_728965c33c6b4056a1cf3d1678255014",
              "IPY_MODEL_93a730c2ec7b40e4900383de1fdb6dd7",
              "IPY_MODEL_000061db85b544c8937aba64b86c173b",
              "IPY_MODEL_1730ced066a949cfa6cb501ae348e0bb",
              "IPY_MODEL_ad2e53f41eb848faaaf6e2d23bf67a15",
              "IPY_MODEL_c73cdf473d68469885765be77e540545",
              "IPY_MODEL_28f55776069f46999f2042398ba8d50d"
            ]
          }
        },
        "e98da0eb2f6440f0a99a8609bfd604a1": {
          "model_module": "@jupyter-widgets/base",
          "model_name": "LayoutModel",
          "state": {
            "_view_name": "LayoutView",
            "grid_template_rows": null,
            "right": null,
            "justify_content": null,
            "_view_module": "@jupyter-widgets/base",
            "overflow": null,
            "_model_module_version": "1.2.0",
            "_view_count": null,
            "flex_flow": null,
            "width": null,
            "min_width": null,
            "border": null,
            "align_items": null,
            "bottom": null,
            "_model_module": "@jupyter-widgets/base",
            "top": null,
            "grid_column": null,
            "overflow_y": null,
            "overflow_x": null,
            "grid_auto_flow": null,
            "grid_area": null,
            "grid_template_columns": null,
            "flex": null,
            "_model_name": "LayoutModel",
            "justify_items": null,
            "grid_row": null,
            "max_height": null,
            "align_content": null,
            "visibility": null,
            "align_self": null,
            "height": null,
            "min_height": null,
            "padding": null,
            "grid_auto_rows": null,
            "grid_gap": null,
            "max_width": null,
            "order": null,
            "_view_module_version": "1.2.0",
            "grid_template_areas": null,
            "object_position": null,
            "object_fit": null,
            "grid_auto_columns": null,
            "margin": null,
            "display": null,
            "left": null
          }
        },
        "8f49b2c7a9bf4aa984548a695e21727d": {
          "model_module": "@jupyter-widgets/controls",
          "model_name": "FloatSliderModel",
          "state": {
            "_view_name": "FloatSliderView",
            "style": "IPY_MODEL_96fd82685a55447ab60f8344c1a8ff24",
            "_dom_classes": [],
            "description": "exp_scale",
            "step": 250,
            "_model_name": "FloatSliderModel",
            "orientation": "horizontal",
            "max": 20000,
            "_view_module": "@jupyter-widgets/controls",
            "_model_module_version": "1.5.0",
            "value": 2500,
            "_view_count": null,
            "disabled": false,
            "_view_module_version": "1.5.0",
            "min": 0,
            "continuous_update": true,
            "readout_format": ".2f",
            "description_tooltip": null,
            "readout": true,
            "_model_module": "@jupyter-widgets/controls",
            "layout": "IPY_MODEL_8ee8a34482c746bca5da4edbd9d0dd05"
          }
        },
        "728965c33c6b4056a1cf3d1678255014": {
          "model_module": "@jupyter-widgets/controls",
          "model_name": "FloatSliderModel",
          "state": {
            "_view_name": "FloatSliderView",
            "style": "IPY_MODEL_64ce34efcd144f3e8f8d7a4bb54d254e",
            "_dom_classes": [],
            "description": "exp_rate",
            "step": 1,
            "_model_name": "FloatSliderModel",
            "orientation": "horizontal",
            "max": 50,
            "_view_module": "@jupyter-widgets/controls",
            "_model_module_version": "1.5.0",
            "value": -70,
            "_view_count": null,
            "disabled": false,
            "_view_module_version": "1.5.0",
            "min": -200,
            "continuous_update": true,
            "readout_format": ".2f",
            "description_tooltip": null,
            "readout": true,
            "_model_module": "@jupyter-widgets/controls",
            "layout": "IPY_MODEL_f59ca92d268749cc915b2d4231e61052"
          }
        },
        "93a730c2ec7b40e4900383de1fdb6dd7": {
          "model_module": "@jupyter-widgets/controls",
          "model_name": "FloatSliderModel",
          "state": {
            "_view_name": "FloatSliderView",
            "style": "IPY_MODEL_d4e4c4cf3afc43ffabceacb45875fd7d",
            "_dom_classes": [],
            "description": "exp_x0",
            "step": 0.005,
            "_model_name": "FloatSliderModel",
            "orientation": "horizontal",
            "max": 0.5,
            "_view_module": "@jupyter-widgets/controls",
            "_model_module_version": "1.5.0",
            "value": 0.05,
            "_view_count": null,
            "disabled": false,
            "_view_module_version": "1.5.0",
            "min": -0.5,
            "continuous_update": true,
            "readout_format": ".2f",
            "description_tooltip": null,
            "readout": true,
            "_model_module": "@jupyter-widgets/controls",
            "layout": "IPY_MODEL_a9de28aff2dc4b5d952e755f9af05c31"
          }
        },
        "000061db85b544c8937aba64b86c173b": {
          "model_module": "@jupyter-widgets/controls",
          "model_name": "FloatSliderModel",
          "state": {
            "_view_name": "FloatSliderView",
            "style": "IPY_MODEL_b8495de2f3544f0f8a4706fa52680a12",
            "_dom_classes": [],
            "description": "inv_scale",
            "step": 10,
            "_model_name": "FloatSliderModel",
            "orientation": "horizontal",
            "max": 300,
            "_view_module": "@jupyter-widgets/controls",
            "_model_module_version": "1.5.0",
            "value": 130,
            "_view_count": null,
            "disabled": false,
            "_view_module_version": "1.5.0",
            "min": 0,
            "continuous_update": true,
            "readout_format": ".2f",
            "description_tooltip": null,
            "readout": true,
            "_model_module": "@jupyter-widgets/controls",
            "layout": "IPY_MODEL_7c5cdc1da26e44bfaf962cdef1ac46ba"
          }
        },
        "1730ced066a949cfa6cb501ae348e0bb": {
          "model_module": "@jupyter-widgets/controls",
          "model_name": "FloatSliderModel",
          "state": {
            "_view_name": "FloatSliderView",
            "style": "IPY_MODEL_1e1767b661ba456baf9fe9d15c0aab81",
            "_dom_classes": [],
            "description": "inv_x0",
            "step": 0.01,
            "_model_name": "FloatSliderModel",
            "orientation": "horizontal",
            "max": 0.2,
            "_view_module": "@jupyter-widgets/controls",
            "_model_module_version": "1.5.0",
            "value": -0.1,
            "_view_count": null,
            "disabled": false,
            "_view_module_version": "1.5.0",
            "min": -0.2,
            "continuous_update": true,
            "readout_format": ".2f",
            "description_tooltip": null,
            "readout": true,
            "_model_module": "@jupyter-widgets/controls",
            "layout": "IPY_MODEL_df9b275e0c7f4fdbb28a6075a91ec547"
          }
        },
        "ad2e53f41eb848faaaf6e2d23bf67a15": {
          "model_module": "@jupyter-widgets/controls",
          "model_name": "FloatSliderModel",
          "state": {
            "_view_name": "FloatSliderView",
            "style": "IPY_MODEL_f045d468d23a4f44972253bfe013c2e1",
            "_dom_classes": [],
            "description": "lin_slope",
            "step": 10000,
            "_model_name": "FloatSliderModel",
            "orientation": "horizontal",
            "max": 100000,
            "_view_module": "@jupyter-widgets/controls",
            "_model_module_version": "1.5.0",
            "value": -260000,
            "_view_count": null,
            "disabled": false,
            "_view_module_version": "1.5.0",
            "min": -600000,
            "continuous_update": true,
            "readout_format": ".2f",
            "description_tooltip": null,
            "readout": true,
            "_model_module": "@jupyter-widgets/controls",
            "layout": "IPY_MODEL_785bd91a6e6847c8b68270ecb3f37f57"
          }
        },
        "c73cdf473d68469885765be77e540545": {
          "model_module": "@jupyter-widgets/controls",
          "model_name": "FloatSliderModel",
          "state": {
            "_view_name": "FloatSliderView",
            "style": "IPY_MODEL_d3aa0451bbec4f96981d55e62d7989ad",
            "_dom_classes": [],
            "description": "lin_y0",
            "step": 1000,
            "_model_name": "FloatSliderModel",
            "orientation": "horizontal",
            "max": 40000,
            "_view_module": "@jupyter-widgets/controls",
            "_model_module_version": "1.5.0",
            "value": 10000,
            "_view_count": null,
            "disabled": false,
            "_view_module_version": "1.5.0",
            "min": 0,
            "continuous_update": true,
            "readout_format": ".2f",
            "description_tooltip": null,
            "readout": true,
            "_model_module": "@jupyter-widgets/controls",
            "layout": "IPY_MODEL_3f9319440ff14082b58b503bbf072b89"
          }
        },
        "28f55776069f46999f2042398ba8d50d": {
          "model_module": "@jupyter-widgets/output",
          "model_name": "OutputModel",
          "state": {
            "_view_name": "OutputView",
            "msg_id": "",
            "_dom_classes": [],
            "_model_name": "OutputModel",
            "outputs": [
              {
                "output_type": "display_data",
                "metadata": {
                  "tags": [],
                  "image/png": {
                    "width": 558,
                    "height": 413
                  },
                  "needs_background": "light"
                },
                "image/png": "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\n",
                "text/plain": "<Figure size 576x432 with 1 Axes>"
              }
            ],
            "_view_module": "@jupyter-widgets/output",
            "_model_module_version": "1.0.0",
            "_view_count": null,
            "_view_module_version": "1.0.0",
            "layout": "IPY_MODEL_1de50040181d401eaa6fb47b34bd9c38",
            "_model_module": "@jupyter-widgets/output"
          }
        },
        "96fd82685a55447ab60f8344c1a8ff24": {
          "model_module": "@jupyter-widgets/controls",
          "model_name": "SliderStyleModel",
          "state": {
            "_view_name": "StyleView",
            "handle_color": null,
            "_model_name": "SliderStyleModel",
            "description_width": "",
            "_view_module": "@jupyter-widgets/base",
            "_model_module_version": "1.5.0",
            "_view_count": null,
            "_view_module_version": "1.2.0",
            "_model_module": "@jupyter-widgets/controls"
          }
        },
        "8ee8a34482c746bca5da4edbd9d0dd05": {
          "model_module": "@jupyter-widgets/base",
          "model_name": "LayoutModel",
          "state": {
            "_view_name": "LayoutView",
            "grid_template_rows": null,
            "right": null,
            "justify_content": null,
            "_view_module": "@jupyter-widgets/base",
            "overflow": null,
            "_model_module_version": "1.2.0",
            "_view_count": null,
            "flex_flow": null,
            "width": null,
            "min_width": null,
            "border": null,
            "align_items": null,
            "bottom": null,
            "_model_module": "@jupyter-widgets/base",
            "top": null,
            "grid_column": null,
            "overflow_y": null,
            "overflow_x": null,
            "grid_auto_flow": null,
            "grid_area": null,
            "grid_template_columns": null,
            "flex": null,
            "_model_name": "LayoutModel",
            "justify_items": null,
            "grid_row": null,
            "max_height": null,
            "align_content": null,
            "visibility": null,
            "align_self": null,
            "height": null,
            "min_height": null,
            "padding": null,
            "grid_auto_rows": null,
            "grid_gap": null,
            "max_width": null,
            "order": null,
            "_view_module_version": "1.2.0",
            "grid_template_areas": null,
            "object_position": null,
            "object_fit": null,
            "grid_auto_columns": null,
            "margin": null,
            "display": null,
            "left": null
          }
        },
        "64ce34efcd144f3e8f8d7a4bb54d254e": {
          "model_module": "@jupyter-widgets/controls",
          "model_name": "SliderStyleModel",
          "state": {
            "_view_name": "StyleView",
            "handle_color": null,
            "_model_name": "SliderStyleModel",
            "description_width": "",
            "_view_module": "@jupyter-widgets/base",
            "_model_module_version": "1.5.0",
            "_view_count": null,
            "_view_module_version": "1.2.0",
            "_model_module": "@jupyter-widgets/controls"
          }
        },
        "f59ca92d268749cc915b2d4231e61052": {
          "model_module": "@jupyter-widgets/base",
          "model_name": "LayoutModel",
          "state": {
            "_view_name": "LayoutView",
            "grid_template_rows": null,
            "right": null,
            "justify_content": null,
            "_view_module": "@jupyter-widgets/base",
            "overflow": null,
            "_model_module_version": "1.2.0",
            "_view_count": null,
            "flex_flow": null,
            "width": null,
            "min_width": null,
            "border": null,
            "align_items": null,
            "bottom": null,
            "_model_module": "@jupyter-widgets/base",
            "top": null,
            "grid_column": null,
            "overflow_y": null,
            "overflow_x": null,
            "grid_auto_flow": null,
            "grid_area": null,
            "grid_template_columns": null,
            "flex": null,
            "_model_name": "LayoutModel",
            "justify_items": null,
            "grid_row": null,
            "max_height": null,
            "align_content": null,
            "visibility": null,
            "align_self": null,
            "height": null,
            "min_height": null,
            "padding": null,
            "grid_auto_rows": null,
            "grid_gap": null,
            "max_width": null,
            "order": null,
            "_view_module_version": "1.2.0",
            "grid_template_areas": null,
            "object_position": null,
            "object_fit": null,
            "grid_auto_columns": null,
            "margin": null,
            "display": null,
            "left": null
          }
        },
        "d4e4c4cf3afc43ffabceacb45875fd7d": {
          "model_module": "@jupyter-widgets/controls",
          "model_name": "SliderStyleModel",
          "state": {
            "_view_name": "StyleView",
            "handle_color": null,
            "_model_name": "SliderStyleModel",
            "description_width": "",
            "_view_module": "@jupyter-widgets/base",
            "_model_module_version": "1.5.0",
            "_view_count": null,
            "_view_module_version": "1.2.0",
            "_model_module": "@jupyter-widgets/controls"
          }
        },
        "a9de28aff2dc4b5d952e755f9af05c31": {
          "model_module": "@jupyter-widgets/base",
          "model_name": "LayoutModel",
          "state": {
            "_view_name": "LayoutView",
            "grid_template_rows": null,
            "right": null,
            "justify_content": null,
            "_view_module": "@jupyter-widgets/base",
            "overflow": null,
            "_model_module_version": "1.2.0",
            "_view_count": null,
            "flex_flow": null,
            "width": null,
            "min_width": null,
            "border": null,
            "align_items": null,
            "bottom": null,
            "_model_module": "@jupyter-widgets/base",
            "top": null,
            "grid_column": null,
            "overflow_y": null,
            "overflow_x": null,
            "grid_auto_flow": null,
            "grid_area": null,
            "grid_template_columns": null,
            "flex": null,
            "_model_name": "LayoutModel",
            "justify_items": null,
            "grid_row": null,
            "max_height": null,
            "align_content": null,
            "visibility": null,
            "align_self": null,
            "height": null,
            "min_height": null,
            "padding": null,
            "grid_auto_rows": null,
            "grid_gap": null,
            "max_width": null,
            "order": null,
            "_view_module_version": "1.2.0",
            "grid_template_areas": null,
            "object_position": null,
            "object_fit": null,
            "grid_auto_columns": null,
            "margin": null,
            "display": null,
            "left": null
          }
        },
        "b8495de2f3544f0f8a4706fa52680a12": {
          "model_module": "@jupyter-widgets/controls",
          "model_name": "SliderStyleModel",
          "state": {
            "_view_name": "StyleView",
            "handle_color": null,
            "_model_name": "SliderStyleModel",
            "description_width": "",
            "_view_module": "@jupyter-widgets/base",
            "_model_module_version": "1.5.0",
            "_view_count": null,
            "_view_module_version": "1.2.0",
            "_model_module": "@jupyter-widgets/controls"
          }
        },
        "7c5cdc1da26e44bfaf962cdef1ac46ba": {
          "model_module": "@jupyter-widgets/base",
          "model_name": "LayoutModel",
          "state": {
            "_view_name": "LayoutView",
            "grid_template_rows": null,
            "right": null,
            "justify_content": null,
            "_view_module": "@jupyter-widgets/base",
            "overflow": null,
            "_model_module_version": "1.2.0",
            "_view_count": null,
            "flex_flow": null,
            "width": null,
            "min_width": null,
            "border": null,
            "align_items": null,
            "bottom": null,
            "_model_module": "@jupyter-widgets/base",
            "top": null,
            "grid_column": null,
            "overflow_y": null,
            "overflow_x": null,
            "grid_auto_flow": null,
            "grid_area": null,
            "grid_template_columns": null,
            "flex": null,
            "_model_name": "LayoutModel",
            "justify_items": null,
            "grid_row": null,
            "max_height": null,
            "align_content": null,
            "visibility": null,
            "align_self": null,
            "height": null,
            "min_height": null,
            "padding": null,
            "grid_auto_rows": null,
            "grid_gap": null,
            "max_width": null,
            "order": null,
            "_view_module_version": "1.2.0",
            "grid_template_areas": null,
            "object_position": null,
            "object_fit": null,
            "grid_auto_columns": null,
            "margin": null,
            "display": null,
            "left": null
          }
        },
        "1e1767b661ba456baf9fe9d15c0aab81": {
          "model_module": "@jupyter-widgets/controls",
          "model_name": "SliderStyleModel",
          "state": {
            "_view_name": "StyleView",
            "handle_color": null,
            "_model_name": "SliderStyleModel",
            "description_width": "",
            "_view_module": "@jupyter-widgets/base",
            "_model_module_version": "1.5.0",
            "_view_count": null,
            "_view_module_version": "1.2.0",
            "_model_module": "@jupyter-widgets/controls"
          }
        },
        "df9b275e0c7f4fdbb28a6075a91ec547": {
          "model_module": "@jupyter-widgets/base",
          "model_name": "LayoutModel",
          "state": {
            "_view_name": "LayoutView",
            "grid_template_rows": null,
            "right": null,
            "justify_content": null,
            "_view_module": "@jupyter-widgets/base",
            "overflow": null,
            "_model_module_version": "1.2.0",
            "_view_count": null,
            "flex_flow": null,
            "width": null,
            "min_width": null,
            "border": null,
            "align_items": null,
            "bottom": null,
            "_model_module": "@jupyter-widgets/base",
            "top": null,
            "grid_column": null,
            "overflow_y": null,
            "overflow_x": null,
            "grid_auto_flow": null,
            "grid_area": null,
            "grid_template_columns": null,
            "flex": null,
            "_model_name": "LayoutModel",
            "justify_items": null,
            "grid_row": null,
            "max_height": null,
            "align_content": null,
            "visibility": null,
            "align_self": null,
            "height": null,
            "min_height": null,
            "padding": null,
            "grid_auto_rows": null,
            "grid_gap": null,
            "max_width": null,
            "order": null,
            "_view_module_version": "1.2.0",
            "grid_template_areas": null,
            "object_position": null,
            "object_fit": null,
            "grid_auto_columns": null,
            "margin": null,
            "display": null,
            "left": null
          }
        },
        "f045d468d23a4f44972253bfe013c2e1": {
          "model_module": "@jupyter-widgets/controls",
          "model_name": "SliderStyleModel",
          "state": {
            "_view_name": "StyleView",
            "handle_color": null,
            "_model_name": "SliderStyleModel",
            "description_width": "",
            "_view_module": "@jupyter-widgets/base",
            "_model_module_version": "1.5.0",
            "_view_count": null,
            "_view_module_version": "1.2.0",
            "_model_module": "@jupyter-widgets/controls"
          }
        },
        "785bd91a6e6847c8b68270ecb3f37f57": {
          "model_module": "@jupyter-widgets/base",
          "model_name": "LayoutModel",
          "state": {
            "_view_name": "LayoutView",
            "grid_template_rows": null,
            "right": null,
            "justify_content": null,
            "_view_module": "@jupyter-widgets/base",
            "overflow": null,
            "_model_module_version": "1.2.0",
            "_view_count": null,
            "flex_flow": null,
            "width": null,
            "min_width": null,
            "border": null,
            "align_items": null,
            "bottom": null,
            "_model_module": "@jupyter-widgets/base",
            "top": null,
            "grid_column": null,
            "overflow_y": null,
            "overflow_x": null,
            "grid_auto_flow": null,
            "grid_area": null,
            "grid_template_columns": null,
            "flex": null,
            "_model_name": "LayoutModel",
            "justify_items": null,
            "grid_row": null,
            "max_height": null,
            "align_content": null,
            "visibility": null,
            "align_self": null,
            "height": null,
            "min_height": null,
            "padding": null,
            "grid_auto_rows": null,
            "grid_gap": null,
            "max_width": null,
            "order": null,
            "_view_module_version": "1.2.0",
            "grid_template_areas": null,
            "object_position": null,
            "object_fit": null,
            "grid_auto_columns": null,
            "margin": null,
            "display": null,
            "left": null
          }
        },
        "d3aa0451bbec4f96981d55e62d7989ad": {
          "model_module": "@jupyter-widgets/controls",
          "model_name": "SliderStyleModel",
          "state": {
            "_view_name": "StyleView",
            "handle_color": null,
            "_model_name": "SliderStyleModel",
            "description_width": "",
            "_view_module": "@jupyter-widgets/base",
            "_model_module_version": "1.5.0",
            "_view_count": null,
            "_view_module_version": "1.2.0",
            "_model_module": "@jupyter-widgets/controls"
          }
        },
        "3f9319440ff14082b58b503bbf072b89": {
          "model_module": "@jupyter-widgets/base",
          "model_name": "LayoutModel",
          "state": {
            "_view_name": "LayoutView",
            "grid_template_rows": null,
            "right": null,
            "justify_content": null,
            "_view_module": "@jupyter-widgets/base",
            "overflow": null,
            "_model_module_version": "1.2.0",
            "_view_count": null,
            "flex_flow": null,
            "width": null,
            "min_width": null,
            "border": null,
            "align_items": null,
            "bottom": null,
            "_model_module": "@jupyter-widgets/base",
            "top": null,
            "grid_column": null,
            "overflow_y": null,
            "overflow_x": null,
            "grid_auto_flow": null,
            "grid_area": null,
            "grid_template_columns": null,
            "flex": null,
            "_model_name": "LayoutModel",
            "justify_items": null,
            "grid_row": null,
            "max_height": null,
            "align_content": null,
            "visibility": null,
            "align_self": null,
            "height": null,
            "min_height": null,
            "padding": null,
            "grid_auto_rows": null,
            "grid_gap": null,
            "max_width": null,
            "order": null,
            "_view_module_version": "1.2.0",
            "grid_template_areas": null,
            "object_position": null,
            "object_fit": null,
            "grid_auto_columns": null,
            "margin": null,
            "display": null,
            "left": null
          }
        },
        "1de50040181d401eaa6fb47b34bd9c38": {
          "model_module": "@jupyter-widgets/base",
          "model_name": "LayoutModel",
          "state": {
            "_view_name": "LayoutView",
            "grid_template_rows": null,
            "right": null,
            "justify_content": null,
            "_view_module": "@jupyter-widgets/base",
            "overflow": null,
            "_model_module_version": "1.2.0",
            "_view_count": null,
            "flex_flow": null,
            "width": null,
            "min_width": null,
            "border": null,
            "align_items": null,
            "bottom": null,
            "_model_module": "@jupyter-widgets/base",
            "top": null,
            "grid_column": null,
            "overflow_y": null,
            "overflow_x": null,
            "grid_auto_flow": null,
            "grid_area": null,
            "grid_template_columns": null,
            "flex": null,
            "_model_name": "LayoutModel",
            "justify_items": null,
            "grid_row": null,
            "max_height": null,
            "align_content": null,
            "visibility": null,
            "align_self": null,
            "height": null,
            "min_height": null,
            "padding": null,
            "grid_auto_rows": null,
            "grid_gap": null,
            "max_width": null,
            "order": null,
            "_view_module_version": "1.2.0",
            "grid_template_areas": null,
            "object_position": null,
            "object_fit": null,
            "grid_auto_columns": null,
            "margin": null,
            "display": null,
            "left": null
          }
        },
        "be693e6652ff4fd18d4d4403f51b856d": {
          "model_module": "@jupyter-widgets/controls",
          "model_name": "TabModel",
          "state": {
            "_view_name": "TabView",
            "_dom_classes": [],
            "_titles": {
              "0": "Youtube",
              "1": "Bilibili"
            },
            "_model_name": "TabModel",
            "_view_module": "@jupyter-widgets/controls",
            "selected_index": 0,
            "_model_module_version": "1.5.0",
            "_view_count": null,
            "_view_module_version": "1.5.0",
            "box_style": "",
            "layout": "IPY_MODEL_fbb1b0139ba44aa2b03fa70a2f86755a",
            "_model_module": "@jupyter-widgets/controls",
            "children": [
              "IPY_MODEL_2f306b6336184234aa8e0ab5ef149bc8",
              "IPY_MODEL_5da2464c75814457a1a33c28725de4aa"
            ]
          }
        },
        "fbb1b0139ba44aa2b03fa70a2f86755a": {
          "model_module": "@jupyter-widgets/base",
          "model_name": "LayoutModel",
          "state": {
            "_view_name": "LayoutView",
            "grid_template_rows": null,
            "right": null,
            "justify_content": null,
            "_view_module": "@jupyter-widgets/base",
            "overflow": null,
            "_model_module_version": "1.2.0",
            "_view_count": null,
            "flex_flow": null,
            "width": null,
            "min_width": null,
            "border": null,
            "align_items": null,
            "bottom": null,
            "_model_module": "@jupyter-widgets/base",
            "top": null,
            "grid_column": null,
            "overflow_y": null,
            "overflow_x": null,
            "grid_auto_flow": null,
            "grid_area": null,
            "grid_template_columns": null,
            "flex": null,
            "_model_name": "LayoutModel",
            "justify_items": null,
            "grid_row": null,
            "max_height": null,
            "align_content": null,
            "visibility": null,
            "align_self": null,
            "height": null,
            "min_height": null,
            "padding": null,
            "grid_auto_rows": null,
            "grid_gap": null,
            "max_width": null,
            "order": null,
            "_view_module_version": "1.2.0",
            "grid_template_areas": null,
            "object_position": null,
            "object_fit": null,
            "grid_auto_columns": null,
            "margin": null,
            "display": null,
            "left": null
          }
        },
        "2f306b6336184234aa8e0ab5ef149bc8": {
          "model_module": "@jupyter-widgets/output",
          "model_name": "OutputModel",
          "state": {
            "_view_name": "OutputView",
            "msg_id": "",
            "_dom_classes": [],
            "_model_name": "OutputModel",
            "outputs": [
              {
                "output_type": "stream",
                "metadata": {
                  "tags": []
                },
                "text": "Video available at https://youtube.com/watch?v=uW2HDk_4-wk\n",
                "stream": "stdout"
              },
              {
                "output_type": "display_data",
                "metadata": {
                  "tags": []
                },
                "text/html": "\n        <iframe\n            width=\"854\"\n            height=\"480\"\n            src=\"https://www.youtube.com/embed/uW2HDk_4-wk?fs=1&rel=0\"\n            frameborder=\"0\"\n            allowfullscreen\n        ></iframe>\n        ",
                "text/plain": "<IPython.lib.display.YouTubeVideo at 0x7fbeed20aed0>",
                "image/jpeg": "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\n"
              }
            ],
            "_view_module": "@jupyter-widgets/output",
            "_model_module_version": "1.0.0",
            "_view_count": null,
            "_view_module_version": "1.0.0",
            "layout": "IPY_MODEL_4abf6fac1393419298f9f9ea7604a0da",
            "_model_module": "@jupyter-widgets/output"
          }
        },
        "5da2464c75814457a1a33c28725de4aa": {
          "model_module": "@jupyter-widgets/output",
          "model_name": "OutputModel",
          "state": {
            "_view_name": "OutputView",
            "msg_id": "",
            "_dom_classes": [],
            "_model_name": "OutputModel",
            "outputs": [
              {
                "output_type": "stream",
                "metadata": {
                  "tags": []
                },
                "text": "Video available at https://www.bilibili.com/video/BV1w54y1S7Eb\n",
                "stream": "stdout"
              },
              {
                "output_type": "display_data",
                "metadata": {
                  "tags": []
                },
                "text/html": "\n        <iframe\n            width=\"854\"\n            height=\"480\"\n            src=\"https://player.bilibili.com/player.html?bvid=BV1w54y1S7Eb&page=1?fs=1\"\n            frameborder=\"0\"\n            allowfullscreen\n        ></iframe>\n        ",
                "text/plain": "<__main__.BiliVideo at 0x7fbeed22ab90>"
              }
            ],
            "_view_module": "@jupyter-widgets/output",
            "_model_module_version": "1.0.0",
            "_view_count": null,
            "_view_module_version": "1.0.0",
            "layout": "IPY_MODEL_0dea2cae208849ccbbb05b26df296eed",
            "_model_module": "@jupyter-widgets/output"
          }
        },
        "4abf6fac1393419298f9f9ea7604a0da": {
          "model_module": "@jupyter-widgets/base",
          "model_name": "LayoutModel",
          "state": {
            "_view_name": "LayoutView",
            "grid_template_rows": null,
            "right": null,
            "justify_content": null,
            "_view_module": "@jupyter-widgets/base",
            "overflow": null,
            "_model_module_version": "1.2.0",
            "_view_count": null,
            "flex_flow": null,
            "width": null,
            "min_width": null,
            "border": null,
            "align_items": null,
            "bottom": null,
            "_model_module": "@jupyter-widgets/base",
            "top": null,
            "grid_column": null,
            "overflow_y": null,
            "overflow_x": null,
            "grid_auto_flow": null,
            "grid_area": null,
            "grid_template_columns": null,
            "flex": null,
            "_model_name": "LayoutModel",
            "justify_items": null,
            "grid_row": null,
            "max_height": null,
            "align_content": null,
            "visibility": null,
            "align_self": null,
            "height": null,
            "min_height": null,
            "padding": null,
            "grid_auto_rows": null,
            "grid_gap": null,
            "max_width": null,
            "order": null,
            "_view_module_version": "1.2.0",
            "grid_template_areas": null,
            "object_position": null,
            "object_fit": null,
            "grid_auto_columns": null,
            "margin": null,
            "display": null,
            "left": null
          }
        },
        "0dea2cae208849ccbbb05b26df296eed": {
          "model_module": "@jupyter-widgets/base",
          "model_name": "LayoutModel",
          "state": {
            "_view_name": "LayoutView",
            "grid_template_rows": null,
            "right": null,
            "justify_content": null,
            "_view_module": "@jupyter-widgets/base",
            "overflow": null,
            "_model_module_version": "1.2.0",
            "_view_count": null,
            "flex_flow": null,
            "width": null,
            "min_width": null,
            "border": null,
            "align_items": null,
            "bottom": null,
            "_model_module": "@jupyter-widgets/base",
            "top": null,
            "grid_column": null,
            "overflow_y": null,
            "overflow_x": null,
            "grid_auto_flow": null,
            "grid_area": null,
            "grid_template_columns": null,
            "flex": null,
            "_model_name": "LayoutModel",
            "justify_items": null,
            "grid_row": null,
            "max_height": null,
            "align_content": null,
            "visibility": null,
            "align_self": null,
            "height": null,
            "min_height": null,
            "padding": null,
            "grid_auto_rows": null,
            "grid_gap": null,
            "max_width": null,
            "order": null,
            "_view_module_version": "1.2.0",
            "grid_template_areas": null,
            "object_position": null,
            "object_fit": null,
            "grid_auto_columns": null,
            "margin": null,
            "display": null,
            "left": null
          }
        }
      }
    }
  },
  "cells": [
    {
      "cell_type": "markdown",
      "metadata": {
        "id": "view-in-github",
        "colab_type": "text"
      },
      "source": [
        "<a href=\"https://colab.research.google.com/github/arpitadash/course-content/blob/master/tutorials/W1D1_ModelTypes/W1D1_Tutorial1.ipynb\" target=\"_parent\"><img src=\"https://colab.research.google.com/assets/colab-badge.svg\" alt=\"Open In Colab\"/></a>"
      ]
    },
    {
      "cell_type": "markdown",
      "metadata": {
        "id": "qeK-w4t6jSuE"
      },
      "source": [
        "# Tutorial 1: \"What\" models\n",
        "**Week 1, Day 1: Model Types**\n",
        "\n",
        "**By Neuromatch Academy**\n",
        "\n",
        "__Content creators:__ Matt Laporte, Byron Galbraith, Konrad Kording\n",
        "\n",
        "__Content reviewers:__ Dalin Guo, Aishwarya Balwani, Madineh Sarvestani, Maryam Vaziri-Pashkam, Michael Waskom, Ella Batty\n",
        "\n",
        "We would like to acknowledge [Steinmetz _et al._ (2019)](https://www.nature.com/articles/s41586-019-1787-x) for sharing their data, a subset of which is used here.\n"
      ]
    },
    {
      "cell_type": "markdown",
      "metadata": {
        "id": "0DLsh7tZjSuZ"
      },
      "source": [
        "**Our 2021 Sponsors, including Presenting Sponsor Facebook Reality Labs**\n",
        "\n",
        "<p align='center'><img src='https://github.com/NeuromatchAcademy/widgets/blob/master/sponsors.png?raw=True'/></p>"
      ]
    },
    {
      "cell_type": "markdown",
      "metadata": {
        "id": "L1E3llhAjSua"
      },
      "source": [
        "___\n",
        "# Tutorial Objectives\n",
        "\n",
        "*Estimated timing of tutorial: 50 minutes*\n",
        "\n",
        "This is tutorial 1 of a 3-part series on different flavors of models used to understand neural data. In this tutorial we will explore 'What' models, used to describe the data. To understand what our data looks like, we will visualize it in different ways. Then we will compare it to simple mathematical models. Specifically, we will:\n",
        "\n",
        "- Load a dataset with spiking activity from hundreds of neurons and understand how it is organized\n",
        "- Make plots to visualize characteristics of the spiking activity across the population\n",
        "- Compute the distribution of \"inter-spike intervals\" (ISIs) for a single neuron\n",
        "- Consider several formal models of this distribution's shape and fit them to the data \"by hand\""
      ]
    },
    {
      "cell_type": "code",
      "metadata": {
        "cellView": "form",
        "execution": {
          "iopub.execute_input": "2021-07-03T17:54:16.068512Z",
          "iopub.status.busy": "2021-07-03T17:54:16.067851Z",
          "iopub.status.idle": "2021-07-03T17:54:16.078805Z",
          "shell.execute_reply": "2021-07-03T17:54:16.079308Z"
        },
        "id": "qLe4O3kxjSuc",
        "outputId": "9a85a7b4-6fef-4bbc-ef47-3c759eee971d",
        "colab": {
          "base_uri": "https://localhost:8080/",
          "height": 501
        }
      },
      "source": [
        "# @title Tutorial slides\n",
        "\n",
        "# @markdown These are the slides for the videos in all tutorials today\n",
        "from IPython.display import IFrame\n",
        "IFrame(src=f\"https://mfr.ca-1.osf.io/render?url=https://osf.io/6dxwe/?direct%26mode=render%26action=download%26mode=render\", width=854, height=480)"
      ],
      "execution_count": 1,
      "outputs": [
        {
          "output_type": "execute_result",
          "data": {
            "text/html": [
              "\n",
              "        <iframe\n",
              "            width=\"854\"\n",
              "            height=\"480\"\n",
              "            src=\"https://mfr.ca-1.osf.io/render?url=https://osf.io/6dxwe/?direct%26mode=render%26action=download%26mode=render\"\n",
              "            frameborder=\"0\"\n",
              "            allowfullscreen\n",
              "        ></iframe>\n",
              "        "
            ],
            "text/plain": [
              "<IPython.lib.display.IFrame at 0x7fbeffa3bcd0>"
            ]
          },
          "metadata": {
            "tags": []
          },
          "execution_count": 1
        }
      ]
    },
    {
      "cell_type": "code",
      "metadata": {
        "cellView": "form",
        "execution": {
          "iopub.execute_input": "2021-07-03T17:54:16.087459Z",
          "iopub.status.busy": "2021-07-03T17:54:16.086818Z",
          "iopub.status.idle": "2021-07-03T17:54:16.200795Z",
          "shell.execute_reply": "2021-07-03T17:54:16.198330Z"
        },
        "id": "bMWTYOtajSut",
        "outputId": "24742eaa-af1a-4077-bf82-e1dc1957665c",
        "colab": {
          "base_uri": "https://localhost:8080/",
          "height": 581,
          "referenced_widgets": [
            "c8eaa559060f4d70b48b182688cb7d86",
            "11758ce4155c47bc80836e0fe2140251",
            "d7ccad369f9e4fdd86885deaaf9791cf",
            "777a8d9596ec4680b4301490ed044609",
            "91fb76a6b5ec4f88b2ab9388e5e368b6",
            "4fea8179674d4844a82ed8caa6951ae6"
          ]
        }
      },
      "source": [
        "# @title Video 1: \"What\" Models\n",
        "from ipywidgets import widgets\n",
        "\n",
        "out2 = widgets.Output()\n",
        "with out2:\n",
        "  from IPython.display import IFrame\n",
        "  class BiliVideo(IFrame):\n",
        "      def __init__(self, id, page=1, width=400, height=300, **kwargs):\n",
        "          self.id=id\n",
        "          src = 'https://player.bilibili.com/player.html?bvid={0}&page={1}'.format(id, page)\n",
        "          super(BiliVideo, self).__init__(src, width, height, **kwargs)\n",
        "\n",
        "  video = BiliVideo(id=\"BV1mz4y1X7ot\", width=854, height=480, fs=1)\n",
        "  print('Video available at https://www.bilibili.com/video/{0}'.format(video.id))\n",
        "  display(video)\n",
        "\n",
        "out1 = widgets.Output()\n",
        "with out1:\n",
        "  from IPython.display import YouTubeVideo\n",
        "  video = YouTubeVideo(id=\"KgqR_jbjMQg\", width=854, height=480, fs=1, rel=0)\n",
        "  print('Video available at https://youtube.com/watch?v=' + video.id)\n",
        "  display(video)\n",
        "\n",
        "out = widgets.Tab([out1, out2])\n",
        "out.set_title(0, 'Youtube')\n",
        "out.set_title(1, 'Bilibili')\n",
        "\n",
        "display(out)"
      ],
      "execution_count": 2,
      "outputs": [
        {
          "output_type": "display_data",
          "data": {
            "application/vnd.jupyter.widget-view+json": {
              "model_id": "c8eaa559060f4d70b48b182688cb7d86",
              "version_minor": 0,
              "version_major": 2
            },
            "text/plain": [
              "Tab(children=(Output(), Output()), _titles={'0': 'Youtube', '1': 'Bilibili'})"
            ]
          },
          "metadata": {
            "tags": []
          }
        }
      ]
    },
    {
      "cell_type": "markdown",
      "metadata": {
        "id": "IGkCapf7jSu3"
      },
      "source": [
        "# Setup\n",
        "\n"
      ]
    },
    {
      "cell_type": "markdown",
      "metadata": {
        "id": "8N8Nq93QjSu5"
      },
      "source": [
        "Python requires you to explictly \"import\" libraries before their functions are available to use. We will always specify our imports at the beginning of each notebook or script."
      ]
    },
    {
      "cell_type": "code",
      "metadata": {
        "execution": {
          "iopub.execute_input": "2021-07-03T17:54:16.207642Z",
          "iopub.status.busy": "2021-07-03T17:54:16.207031Z",
          "iopub.status.idle": "2021-07-03T17:54:18.019171Z",
          "shell.execute_reply": "2021-07-03T17:54:18.018238Z"
        },
        "pycharm": {
          "name": "#%%\n"
        },
        "id": "SEZAxhwyjSu6"
      },
      "source": [
        "import numpy as np\n",
        "import matplotlib.pyplot as plt"
      ],
      "execution_count": 80,
      "outputs": []
    },
    {
      "cell_type": "markdown",
      "metadata": {
        "id": "vShlHIV_jSu7"
      },
      "source": [
        "Tutorial notebooks typically begin with several set-up steps that are hidden from view by default.\n",
        "\n",
        "**Important:** Even though the code is hidden, you still need to run it so that the rest of the notebook can work properly. Step through each cell, either by pressing the play button in the upper-left-hand corner or with a keyboard shortcut (`Cmd-Return` on a Mac, `Ctrl-Enter` otherwise). A number will appear inside the brackets (e.g. `[3]`) to tell you that the cell was executed and what order that happened in.\n",
        "\n",
        "If you are curious to see what is going on inside each cell, you can double click to expand. Once expanded, double-click the white space to the right of the editor to collapse again."
      ]
    },
    {
      "cell_type": "code",
      "metadata": {
        "cellView": "form",
        "execution": {
          "iopub.execute_input": "2021-07-03T17:54:18.035304Z",
          "iopub.status.busy": "2021-07-03T17:54:18.031341Z",
          "iopub.status.idle": "2021-07-03T17:54:18.199819Z",
          "shell.execute_reply": "2021-07-03T17:54:18.200358Z"
        },
        "pycharm": {
          "name": "#%%\n"
        },
        "id": "bxMQytwGjSu_"
      },
      "source": [
        "# @title Figure Settings\n",
        "import ipywidgets as widgets #interactive display\n",
        "\n",
        "%matplotlib inline\n",
        "%config InlineBackend.figure_format = 'retina'\n",
        "plt.style.use(\"https://raw.githubusercontent.com/NeuromatchAcademy/course-content/master/nma.mplstyle\")"
      ],
      "execution_count": 69,
      "outputs": []
    },
    {
      "cell_type": "code",
      "metadata": {
        "cellView": "form",
        "execution": {
          "iopub.execute_input": "2021-07-03T17:54:18.206360Z",
          "iopub.status.busy": "2021-07-03T17:54:18.202786Z",
          "iopub.status.idle": "2021-07-03T17:54:18.209079Z",
          "shell.execute_reply": "2021-07-03T17:54:18.209943Z"
        },
        "id": "voTXUN5UjSvF"
      },
      "source": [
        "# @title Plotting functions\n",
        "\n",
        "def plot_isis(single_neuron_isis):\n",
        "  plt.hist(single_neuron_isis, bins=50, histtype=\"stepfilled\")\n",
        "  plt.axvline(single_neuron_isis.mean(), color=\"orange\", label=\"Mean ISI\")\n",
        "  plt.xlabel(\"ISI duration (s)\")\n",
        "  plt.ylabel(\"Number of spikes\")\n",
        "  plt.legend()"
      ],
      "execution_count": 70,
      "outputs": []
    },
    {
      "cell_type": "code",
      "metadata": {
        "execution": {
          "iopub.execute_input": "2021-07-03T17:54:18.216099Z",
          "iopub.status.busy": "2021-07-03T17:54:18.215112Z",
          "iopub.status.idle": "2021-07-03T17:54:20.671000Z",
          "shell.execute_reply": "2021-07-03T17:54:20.671442Z"
        },
        "pycharm": {
          "name": "#%%\n"
        },
        "cellView": "form",
        "id": "lSLmdj5JjSvG"
      },
      "source": [
        "#@title Data retrieval\n",
        "#@markdown This cell downloads the example dataset that we will use in this tutorial.\n",
        "import io\n",
        "import requests\n",
        "r = requests.get('https://osf.io/sy5xt/download')\n",
        "if r.status_code != 200:\n",
        "  print('Failed to download data')\n",
        "else:\n",
        "  spike_times = np.load(io.BytesIO(r.content), allow_pickle=True)['spike_times']"
      ],
      "execution_count": 71,
      "outputs": []
    },
    {
      "cell_type": "markdown",
      "metadata": {
        "id": "6sHiCy3IjSvL"
      },
      "source": [
        "---\n",
        "\n",
        "# Section 1: Exploring the Steinmetz dataset\n",
        "\n",
        "In this tutorial we will explore the structure of a neuroscience dataset.\n",
        "\n",
        "We consider a subset of data from a study of [Steinmetz _et al._ (2019)](https://www.nature.com/articles/s41586-019-1787-x). In this study, Neuropixels probes were implanted in the brains of mice. Electrical potentials were measured by hundreds of electrodes along the length of each probe. Each electrode's measurements captured local variations in the electric field due to nearby spiking neurons. A spike sorting algorithm was used to infer spike times and cluster spikes according to common origin: a single cluster of sorted spikes is causally attributed to a single neuron.\n",
        "\n",
        "In particular, a single recording session of spike times and neuron assignments was loaded and assigned to `spike_times` in the preceding setup.\n",
        "\n",
        "Typically a dataset comes with some information about its structure. However, this information may be incomplete. You might also apply some transformations or \"pre-processing\" to create a working representation of the data of interest, which might go partly undocumented depending on the circumstances. In any case it is important to be able to use the available tools to investigate unfamiliar aspects of a data structure.\n",
        "\n",
        "Let's see what our data looks like..."
      ]
    },
    {
      "cell_type": "markdown",
      "metadata": {
        "id": "WbXL1lWGjSvP"
      },
      "source": [
        "## Section 1.1: Warming up with `spike_times`"
      ]
    },
    {
      "cell_type": "markdown",
      "metadata": {
        "id": "CBJyqWWSjSvQ"
      },
      "source": [
        "What is the Python type of our variable?"
      ]
    },
    {
      "cell_type": "code",
      "metadata": {
        "execution": {
          "iopub.execute_input": "2021-07-03T17:54:20.676871Z",
          "iopub.status.busy": "2021-07-03T17:54:20.676106Z",
          "iopub.status.idle": "2021-07-03T17:54:20.682191Z",
          "shell.execute_reply": "2021-07-03T17:54:20.681644Z"
        },
        "pycharm": {
          "name": "#%%\n"
        },
        "id": "mOmsAQqJjSvQ",
        "outputId": "3904df81-ed45-4625-e14a-7d95958e8780",
        "colab": {
          "base_uri": "https://localhost:8080/"
        }
      },
      "source": [
        "type(spike_times)"
      ],
      "execution_count": 72,
      "outputs": [
        {
          "output_type": "execute_result",
          "data": {
            "text/plain": [
              "numpy.ndarray"
            ]
          },
          "metadata": {
            "tags": []
          },
          "execution_count": 72
        }
      ]
    },
    {
      "cell_type": "markdown",
      "metadata": {
        "id": "tx3EdbL1jSvU"
      },
      "source": [
        "You should see `numpy.ndarray`, which means that it's a normal NumPy array.\n",
        "\n",
        "If you see an error message, it probably means that you did not execute the set-up cells at the top of the notebook. So go ahead and make sure to do that.\n",
        "\n",
        "Once everything is running properly, we can ask the next question about the dataset: what's its shape?"
      ]
    },
    {
      "cell_type": "code",
      "metadata": {
        "execution": {
          "iopub.execute_input": "2021-07-03T17:54:20.686733Z",
          "iopub.status.busy": "2021-07-03T17:54:20.686101Z",
          "iopub.status.idle": "2021-07-03T17:54:20.691916Z",
          "shell.execute_reply": "2021-07-03T17:54:20.692367Z"
        },
        "pycharm": {
          "name": "#%%\n"
        },
        "id": "SSxvdJy1jSvW",
        "outputId": "10bcd65f-aac9-482f-a2ce-aba3696a6f28",
        "colab": {
          "base_uri": "https://localhost:8080/"
        }
      },
      "source": [
        "spike_times.shape"
      ],
      "execution_count": 73,
      "outputs": [
        {
          "output_type": "execute_result",
          "data": {
            "text/plain": [
              "(734,)"
            ]
          },
          "metadata": {
            "tags": []
          },
          "execution_count": 73
        }
      ]
    },
    {
      "cell_type": "markdown",
      "metadata": {
        "id": "XIQ5GkYyjSvX"
      },
      "source": [
        "There are 734 entries in one dimension, and no other dimensions. What is the Python type of the first entry, and what is *its* shape?"
      ]
    },
    {
      "cell_type": "code",
      "metadata": {
        "execution": {
          "iopub.execute_input": "2021-07-03T17:54:20.697800Z",
          "iopub.status.busy": "2021-07-03T17:54:20.697199Z",
          "iopub.status.idle": "2021-07-03T17:54:20.701384Z",
          "shell.execute_reply": "2021-07-03T17:54:20.700890Z"
        },
        "pycharm": {
          "name": "#%%\n"
        },
        "id": "fTa5-HcijSvY",
        "outputId": "ef3b8f5e-d56f-419b-9a0e-c39981aff864",
        "colab": {
          "base_uri": "https://localhost:8080/"
        }
      },
      "source": [
        "idx = 0\n",
        "print(\n",
        "  type(spike_times[idx]),\n",
        "  spike_times[idx].shape,\n",
        "  sep=\"\\n\",\n",
        ")"
      ],
      "execution_count": 9,
      "outputs": [
        {
          "output_type": "stream",
          "text": [
            "<class 'numpy.ndarray'>\n",
            "(826,)\n"
          ],
          "name": "stdout"
        }
      ]
    },
    {
      "cell_type": "markdown",
      "metadata": {
        "id": "wCCwWdmBjSvZ"
      },
      "source": [
        "It's also a NumPy array with a 1D shape! Why didn't this show up as a second dimension in the shape of `spike_times`? That is, why not `spike_times.shape == (734, 826)`?\n",
        "\n",
        "To investigate, let's check another entry."
      ]
    },
    {
      "cell_type": "code",
      "metadata": {
        "execution": {
          "iopub.execute_input": "2021-07-03T17:54:20.710021Z",
          "iopub.status.busy": "2021-07-03T17:54:20.707287Z",
          "iopub.status.idle": "2021-07-03T17:54:20.712941Z",
          "shell.execute_reply": "2021-07-03T17:54:20.712371Z"
        },
        "pycharm": {
          "name": "#%%\n"
        },
        "id": "_Rm_WqJ3jSvf",
        "outputId": "66f7bdfa-98d8-45c2-dbc2-3d1c401a75c5",
        "colab": {
          "base_uri": "https://localhost:8080/"
        }
      },
      "source": [
        "idx = 321\n",
        "print(\n",
        "  type(spike_times[idx]),\n",
        "  spike_times[idx].shape,\n",
        "  sep=\"\\n\",\n",
        ")\n",
        "# print(\n",
        "#   type(spike_times[idx][1]),\n",
        "#   spike_times[idx][1].shape,\n",
        "#   sep=\"\\n\",\n",
        "# )"
      ],
      "execution_count": 77,
      "outputs": [
        {
          "output_type": "stream",
          "text": [
            "<class 'numpy.ndarray'>\n",
            "(9723,)\n"
          ],
          "name": "stdout"
        }
      ]
    },
    {
      "cell_type": "markdown",
      "metadata": {
        "id": "gBGBduvxjSvg"
      },
      "source": [
        "It's also a 1D NumPy array, but it has a different shape. Checking the NumPy types of the values in these arrays, and their first few elements, we see they are composed of floating point numbers (not another level of `np.ndarray`):"
      ]
    },
    {
      "cell_type": "code",
      "metadata": {
        "execution": {
          "iopub.execute_input": "2021-07-03T17:54:20.722331Z",
          "iopub.status.busy": "2021-07-03T17:54:20.720941Z",
          "iopub.status.idle": "2021-07-03T17:54:20.724840Z",
          "shell.execute_reply": "2021-07-03T17:54:20.724270Z"
        },
        "pycharm": {
          "name": "#%%\n"
        },
        "id": "kiBdH2h9jSvg",
        "outputId": "09ac7c57-4e95-4952-886d-61a862cb6d73",
        "colab": {
          "base_uri": "https://localhost:8080/"
        }
      },
      "source": [
        "i_neurons = [0, 321]\n",
        "i_print = slice(0, 5)\n",
        "\n",
        "for i in i_neurons:\n",
        "  print(\n",
        "    \"Neuron {}:\".format(i),\n",
        "    spike_times[i].dtype,\n",
        "    spike_times[i][i_print],\n",
        "    \"\\n\",\n",
        "    sep=\"\\n\"\n",
        "  )"
      ],
      "execution_count": 75,
      "outputs": [
        {
          "output_type": "stream",
          "text": [
            "Neuron 0:\n",
            "float32\n",
            "[ 0.8149   14.822467 24.9646   25.1436   38.8709  ]\n",
            "\n",
            "\n",
            "Neuron 321:\n",
            "float32\n",
            "[1.0698667 1.1536334 1.2403667 1.7072    1.799    ]\n",
            "\n",
            "\n"
          ],
          "name": "stdout"
        }
      ]
    },
    {
      "cell_type": "markdown",
      "metadata": {
        "id": "Jj24lhMgjSvl"
      },
      "source": [
        "Note that this time we've checked the NumPy `dtype` rather than the Python variable type. These two arrays contain floating point numbers (\"floats\") with 32 bits of precision.\n",
        "\n",
        "The basic picture is coming together:\n",
        "- `spike_times` is 1D, its entries are NumPy arrays, and its length is the number of neurons (734): by indexing it, we select a subset of neurons.\n",
        "- An array in `spike_times` is also 1D and corresponds to a single neuron; its entries are floating point numbers, and its length is the number of spikes attributed to that neuron. By indexing it, we select a subset of spike times for that neuron.\n",
        "\n",
        "Visually, you can think of the data structure as looking something like this:\n",
        "\n",
        "```\n",
        "| . . . . . |\n",
        "| . . . . . . . . |\n",
        "| . . . |\n",
        "| . . . . . . . |\n",
        "```\n",
        "\n",
        "Before moving on, we'll calculate and store the number of neurons in the dataset and the number of spikes per neuron:"
      ]
    },
    {
      "cell_type": "code",
      "metadata": {
        "execution": {
          "iopub.execute_input": "2021-07-03T17:54:20.731464Z",
          "iopub.status.busy": "2021-07-03T17:54:20.730149Z",
          "iopub.status.idle": "2021-07-03T17:54:20.733629Z",
          "shell.execute_reply": "2021-07-03T17:54:20.733072Z"
        },
        "pycharm": {
          "name": "#%%\n"
        },
        "id": "_6swgovDjSvm",
        "outputId": "354c8d2d-0171-48a4-ce0e-f485423e63fd",
        "colab": {
          "base_uri": "https://localhost:8080/"
        }
      },
      "source": [
        "n_neurons = len(spike_times)\n",
        "total_spikes_per_neuron = [len(spike_times_i) for spike_times_i in spike_times]\n",
        "\n",
        "print(f\"Number of neurons: {n_neurons}\")\n",
        "print(f\"Number of spikes for first five neurons: {total_spikes_per_neuron[:5]}\")"
      ],
      "execution_count": 79,
      "outputs": [
        {
          "output_type": "stream",
          "text": [
            "Number of neurons: 734\n",
            "Number of spikes for first five neurons: [826, 2818, 3953, 646, 1115]\n"
          ],
          "name": "stdout"
        }
      ]
    },
    {
      "cell_type": "code",
      "metadata": {
        "cellView": "form",
        "execution": {
          "iopub.execute_input": "2021-07-03T17:54:20.748484Z",
          "iopub.status.busy": "2021-07-03T17:54:20.746673Z",
          "iopub.status.idle": "2021-07-03T17:54:20.806460Z",
          "shell.execute_reply": "2021-07-03T17:54:20.803939Z"
        },
        "id": "yZUgMxuojSvn",
        "outputId": "78010849-bdaf-4a3c-910b-19611fa9b979",
        "colab": {
          "base_uri": "https://localhost:8080/",
          "height": 581,
          "referenced_widgets": [
            "0839747fe3274d87b116a5360007cb5c",
            "f2e5c5eddffa47a394fa096cd33163c4",
            "f489041cb2cc421cb86db979c18fd711",
            "f4f1d228326a4457a65a391a0ca5d33e",
            "b52fdca5d3c14aa691be5b81ef340d92",
            "6cdfefa65c5748a383c8c1097ea895cf"
          ]
        }
      },
      "source": [
        "# @title Video 2: Exploring the dataset\n",
        "from ipywidgets import widgets\n",
        "\n",
        "out2 = widgets.Output()\n",
        "with out2:\n",
        "  from IPython.display import IFrame\n",
        "  class BiliVideo(IFrame):\n",
        "      def __init__(self, id, page=1, width=400, height=300, **kwargs):\n",
        "          self.id=id\n",
        "          src = 'https://player.bilibili.com/player.html?bvid={0}&page={1}'.format(id, page)\n",
        "          super(BiliVideo, self).__init__(src, width, height, **kwargs)\n",
        "\n",
        "  video = BiliVideo(id=\"BV1Hp4y1S7Au\", width=854, height=480, fs=1)\n",
        "  print('Video available at https://www.bilibili.com/video/{0}'.format(video.id))\n",
        "  display(video)\n",
        "\n",
        "out1 = widgets.Output()\n",
        "with out1:\n",
        "  from IPython.display import YouTubeVideo\n",
        "  video = YouTubeVideo(id=\"oHwYWUI_o1U\", width=854, height=480, fs=1, rel=0)\n",
        "  print('Video available at https://youtube.com/watch?v=' + video.id)\n",
        "  display(video)\n",
        "\n",
        "out = widgets.Tab([out1, out2])\n",
        "out.set_title(0, 'Youtube')\n",
        "out.set_title(1, 'Bilibili')\n",
        "\n",
        "display(out)"
      ],
      "execution_count": 13,
      "outputs": [
        {
          "output_type": "display_data",
          "data": {
            "application/vnd.jupyter.widget-view+json": {
              "model_id": "0839747fe3274d87b116a5360007cb5c",
              "version_minor": 0,
              "version_major": 2
            },
            "text/plain": [
              "Tab(children=(Output(), Output()), _titles={'0': 'Youtube', '1': 'Bilibili'})"
            ]
          },
          "metadata": {
            "tags": []
          }
        }
      ]
    },
    {
      "cell_type": "markdown",
      "metadata": {
        "id": "tbZsFrERjSvn"
      },
      "source": [
        "## Section 1.2: Getting warmer: counting and plotting total spike counts\n",
        "\n",
        "As we've seen, the number of spikes over the entire recording is variable between neurons. More generally, some neurons tend to spike more than others in a given period. Lets explore what the distribution of spiking looks like across all the neurons in the dataset."
      ]
    },
    {
      "cell_type": "markdown",
      "metadata": {
        "id": "vLfDzCK6jSvo"
      },
      "source": [
        "Are most neurons \"loud\" or \"quiet\", compared to the average? To see, we'll define bins of constant width in terms of total spikes and count the neurons that fall in each bin. This is known as a \"histogram\".\n",
        "\n",
        "You can plot a histogram with the matplotlib function `plt.hist`. If you just need to compute it, you can use the numpy function `np.histogram` instead."
      ]
    },
    {
      "cell_type": "code",
      "metadata": {
        "execution": {
          "iopub.execute_input": "2021-07-03T17:54:20.831106Z",
          "iopub.status.busy": "2021-07-03T17:54:20.830471Z",
          "iopub.status.idle": "2021-07-03T17:54:21.104468Z",
          "shell.execute_reply": "2021-07-03T17:54:21.103509Z"
        },
        "pycharm": {
          "name": "#%%\n"
        },
        "id": "CJYDstRgjSvo",
        "outputId": "f1c0eb17-70bb-4de7-94cf-364adeb3d38f",
        "colab": {
          "base_uri": "https://localhost:8080/",
          "height": 431
        }
      },
      "source": [
        "plt.hist(total_spikes_per_neuron, bins=50, histtype=\"stepfilled\")\n",
        "plt.xlabel(\"Total spikes per neuron\")\n",
        "plt.ylabel(\"Number of neurons\");"
      ],
      "execution_count": 81,
      "outputs": [
        {
          "output_type": "display_data",
          "data": {
            "image/png": "[encoded data removed]",
            "text/plain": [
              "<Figure size 576x432 with 1 Axes>"
            ]
          },
          "metadata": {
            "tags": [],
            "image/png": {
              "width": 558,
              "height": 414
            },
            "needs_background": "light"
          }
        }
      ]
    },
    {
      "cell_type": "markdown",
      "metadata": {
        "id": "3RuojaBIjSvo"
      },
      "source": [
        "Let's see what percentage of neurons have a below-average spike count:"
      ]
    },
    {
      "cell_type": "code",
      "metadata": {
        "execution": {
          "iopub.execute_input": "2021-07-03T17:54:21.109765Z",
          "iopub.status.busy": "2021-07-03T17:54:21.109111Z",
          "iopub.status.idle": "2021-07-03T17:54:21.113872Z",
          "shell.execute_reply": "2021-07-03T17:54:21.113384Z"
        },
        "pycharm": {
          "name": "#%%\n"
        },
        "id": "oPq1UgFVjSvp",
        "outputId": "d5e8d804-96c0-48d1-8157-95188de2a244",
        "colab": {
          "base_uri": "https://localhost:8080/"
        }
      },
      "source": [
        "mean_spike_count = np.mean(total_spikes_per_neuron)\n",
        "frac_below_mean = (total_spikes_per_neuron < mean_spike_count).mean()\n",
        "print(f\"{frac_below_mean:2.1%} of neurons are below the mean\")"
      ],
      "execution_count": 82,
      "outputs": [
        {
          "output_type": "stream",
          "text": [
            "68.0% of neurons are below the mean\n"
          ],
          "name": "stdout"
        }
      ]
    },
    {
      "cell_type": "markdown",
      "metadata": {
        "id": "DzwC1GPvjSvq"
      },
      "source": [
        "We can also see this by adding the average spike count to the histogram plot:"
      ]
    },
    {
      "cell_type": "code",
      "metadata": {
        "execution": {
          "iopub.execute_input": "2021-07-03T17:54:21.143165Z",
          "iopub.status.busy": "2021-07-03T17:54:21.142193Z",
          "iopub.status.idle": "2021-07-03T17:54:21.408641Z",
          "shell.execute_reply": "2021-07-03T17:54:21.408096Z"
        },
        "pycharm": {
          "name": "#%%\n"
        },
        "id": "0uOpbH3vjSvq",
        "outputId": "84c0db26-2153-456c-b4f8-e9b9a822adf1",
        "colab": {
          "base_uri": "https://localhost:8080/",
          "height": 431
        }
      },
      "source": [
        "plt.hist(total_spikes_per_neuron, bins=50, histtype=\"stepfilled\")\n",
        "plt.xlabel(\"Total spikes per neuron\")\n",
        "plt.ylabel(\"Number of neurons\")\n",
        "plt.axvline(mean_spike_count, color=\"orange\", label=\"Mean neuron\")\n",
        "plt.legend();"
      ],
      "execution_count": 83,
      "outputs": [
        {
          "output_type": "display_data",
          "data": {
            "image/png": "[encoded data removed]",
            "text/plain": [
              "<Figure size 576x432 with 1 Axes>"
            ]
          },
          "metadata": {
            "tags": [],
            "image/png": {
              "width": 558,
              "height": 414
            },
            "needs_background": "light"
          }
        }
      ]
    },
    {
      "cell_type": "markdown",
      "metadata": {
        "id": "gJ6j5Zy5jSvr"
      },
      "source": [
        "This shows that the majority of neurons are relatively \"quiet\" compared to the mean, while a small number of neurons are exceptionally \"loud\": they must have spiked more often to reach a large count.\n",
        "\n",
        "### Coding Exercise 1.2: Comparing mean and median neurons\n",
        "\n",
        "If the mean neuron is more active than 68% of the population, what does that imply about the relationship between the mean neuron and the median neuron?\n",
        "\n",
        "*Exercise objective:* Reproduce the plot above, but add the median neuron.\n"
      ]
    },
    {
      "cell_type": "code",
      "metadata": {
        "execution": {
          "iopub.execute_input": "2021-07-03T17:54:21.417212Z",
          "iopub.status.busy": "2021-07-03T17:54:21.416528Z",
          "iopub.status.idle": "2021-07-03T17:54:21.534528Z",
          "shell.execute_reply": "2021-07-03T17:54:21.532642Z"
        },
        "pycharm": {
          "name": "#%%\n"
        },
        "id": "XuEtbVL9jSvr",
        "outputId": "a16985e4-18a8-424f-ad5e-41d85d648d75",
        "colab": {
          "base_uri": "https://localhost:8080/",
          "height": 235
        }
      },
      "source": [
        "#################################################################################\n",
        "## TODO for students:\n",
        "# Fill out function and remove\n",
        "raise NotImplementedError(\"Student exercise: complete histogram plotting with median\")\n",
        "#################################################################################\n",
        "\n",
        "# Compute median spike count\n",
        "median_spike_count = ...  # Hint: Try the function np.median\n",
        "\n",
        "# Visualize median, mean, and histogram\n",
        "plt.hist(..., bins=50, histtype=\"stepfilled\")\n",
        "plt.axvline(..., color=\"limegreen\", label=\"Median neuron\")\n",
        "plt.axvline(mean_spike_count, color=\"orange\", label=\"Mean neuron\")\n",
        "plt.xlabel(\"Total spikes per neuron\")\n",
        "plt.ylabel(\"Number of neurons\")\n",
        "plt.legend()"
      ],
      "execution_count": 17,
      "outputs": [
        {
          "output_type": "error",
          "ename": "NotImplementedError",
          "evalue": "ignored",
          "traceback": [
            "\u001b[0;31m---------------------------------------------------------------------------\u001b[0m",
            "\u001b[0;31mNotImplementedError\u001b[0m                       Traceback (most recent call last)",
            "\u001b[0;32m<ipython-input-17-cf28848105da>\u001b[0m in \u001b[0;36m<module>\u001b[0;34m()\u001b[0m\n\u001b[1;32m      2\u001b[0m \u001b[0;31m## TODO for students:\u001b[0m\u001b[0;34m\u001b[0m\u001b[0;34m\u001b[0m\u001b[0;34m\u001b[0m\u001b[0m\n\u001b[1;32m      3\u001b[0m \u001b[0;31m# Fill out function and remove\u001b[0m\u001b[0;34m\u001b[0m\u001b[0;34m\u001b[0m\u001b[0;34m\u001b[0m\u001b[0m\n\u001b[0;32m----> 4\u001b[0;31m \u001b[0;32mraise\u001b[0m \u001b[0mNotImplementedError\u001b[0m\u001b[0;34m(\u001b[0m\u001b[0;34m\"Student exercise: complete histogram plotting with median\"\u001b[0m\u001b[0;34m)\u001b[0m\u001b[0;34m\u001b[0m\u001b[0;34m\u001b[0m\u001b[0m\n\u001b[0m\u001b[1;32m      5\u001b[0m \u001b[0;31m#################################################################################\u001b[0m\u001b[0;34m\u001b[0m\u001b[0;34m\u001b[0m\u001b[0;34m\u001b[0m\u001b[0m\n\u001b[1;32m      6\u001b[0m \u001b[0;34m\u001b[0m\u001b[0m\n",
            "\u001b[0;31mNotImplementedError\u001b[0m: Student exercise: complete histogram plotting with median"
          ]
        }
      ]
    },
    {
      "cell_type": "code",
      "metadata": {
        "id": "OyVS_vwTlxW8",
        "outputId": "645c71f5-ed44-49c3-ccfe-148d62766e52",
        "colab": {
          "base_uri": "https://localhost:8080/"
        }
      },
      "source": [
        "help(np.percentile)"
      ],
      "execution_count": 22,
      "outputs": [
        {
          "output_type": "stream",
          "text": [
            "Help on function percentile in module numpy:\n",
            "\n",
            "percentile(a, q, axis=None, out=None, overwrite_input=False, interpolation='linear', keepdims=False)\n",
            "    Compute the q-th percentile of the data along the specified axis.\n",
            "    \n",
            "    Returns the q-th percentile(s) of the array elements.\n",
            "    \n",
            "    Parameters\n",
            "    ----------\n",
            "    a : array_like\n",
            "        Input array or object that can be converted to an array.\n",
            "    q : array_like of float\n",
            "        Percentile or sequence of percentiles to compute, which must be between\n",
            "        0 and 100 inclusive.\n",
            "    axis : {int, tuple of int, None}, optional\n",
            "        Axis or axes along which the percentiles are computed. The\n",
            "        default is to compute the percentile(s) along a flattened\n",
            "        version of the array.\n",
            "    \n",
            "        .. versionchanged:: 1.9.0\n",
            "            A tuple of axes is supported\n",
            "    out : ndarray, optional\n",
            "        Alternative output array in which to place the result. It must\n",
            "        have the same shape and buffer length as the expected output,\n",
            "        but the type (of the output) will be cast if necessary.\n",
            "    overwrite_input : bool, optional\n",
            "        If True, then allow the input array `a` to be modified by intermediate\n",
            "        calculations, to save memory. In this case, the contents of the input\n",
            "        `a` after this function completes is undefined.\n",
            "    \n",
            "    interpolation : {'linear', 'lower', 'higher', 'midpoint', 'nearest'}\n",
            "        This optional parameter specifies the interpolation method to\n",
            "        use when the desired percentile lies between two data points\n",
            "        ``i < j``:\n",
            "    \n",
            "        * 'linear': ``i + (j - i) * fraction``, where ``fraction``\n",
            "          is the fractional part of the index surrounded by ``i``\n",
            "          and ``j``.\n",
            "        * 'lower': ``i``.\n",
            "        * 'higher': ``j``.\n",
            "        * 'nearest': ``i`` or ``j``, whichever is nearest.\n",
            "        * 'midpoint': ``(i + j) / 2``.\n",
            "    \n",
            "        .. versionadded:: 1.9.0\n",
            "    keepdims : bool, optional\n",
            "        If this is set to True, the axes which are reduced are left in\n",
            "        the result as dimensions with size one. With this option, the\n",
            "        result will broadcast correctly against the original array `a`.\n",
            "    \n",
            "        .. versionadded:: 1.9.0\n",
            "    \n",
            "    Returns\n",
            "    -------\n",
            "    percentile : scalar or ndarray\n",
            "        If `q` is a single percentile and `axis=None`, then the result\n",
            "        is a scalar. If multiple percentiles are given, first axis of\n",
            "        the result corresponds to the percentiles. The other axes are\n",
            "        the axes that remain after the reduction of `a`. If the input\n",
            "        contains integers or floats smaller than ``float64``, the output\n",
            "        data-type is ``float64``. Otherwise, the output data-type is the\n",
            "        same as that of the input. If `out` is specified, that array is\n",
            "        returned instead.\n",
            "    \n",
            "    See Also\n",
            "    --------\n",
            "    mean\n",
            "    median : equivalent to ``percentile(..., 50)``\n",
            "    nanpercentile\n",
            "    quantile : equivalent to percentile, except with q in the range [0, 1].\n",
            "    \n",
            "    Notes\n",
            "    -----\n",
            "    Given a vector ``V`` of length ``N``, the q-th percentile of\n",
            "    ``V`` is the value ``q/100`` of the way from the minimum to the\n",
            "    maximum in a sorted copy of ``V``. The values and distances of\n",
            "    the two nearest neighbors as well as the `interpolation` parameter\n",
            "    will determine the percentile if the normalized ranking does not\n",
            "    match the location of ``q`` exactly. This function is the same as\n",
            "    the median if ``q=50``, the same as the minimum if ``q=0`` and the\n",
            "    same as the maximum if ``q=100``.\n",
            "    \n",
            "    Examples\n",
            "    --------\n",
            "    >>> a = np.array([[10, 7, 4], [3, 2, 1]])\n",
            "    >>> a\n",
            "    array([[10,  7,  4],\n",
            "           [ 3,  2,  1]])\n",
            "    >>> np.percentile(a, 50)\n",
            "    3.5\n",
            "    >>> np.percentile(a, 50, axis=0)\n",
            "    array([6.5, 4.5, 2.5])\n",
            "    >>> np.percentile(a, 50, axis=1)\n",
            "    array([7.,  2.])\n",
            "    >>> np.percentile(a, 50, axis=1, keepdims=True)\n",
            "    array([[7.],\n",
            "           [2.]])\n",
            "    \n",
            "    >>> m = np.percentile(a, 50, axis=0)\n",
            "    >>> out = np.zeros_like(m)\n",
            "    >>> np.percentile(a, 50, axis=0, out=out)\n",
            "    array([6.5, 4.5, 2.5])\n",
            "    >>> m\n",
            "    array([6.5, 4.5, 2.5])\n",
            "    \n",
            "    >>> b = a.copy()\n",
            "    >>> np.percentile(b, 50, axis=1, overwrite_input=True)\n",
            "    array([7.,  2.])\n",
            "    >>> assert not np.all(a == b)\n",
            "    \n",
            "    The different types of interpolation can be visualized graphically:\n",
            "    \n",
            "    .. plot::\n",
            "    \n",
            "        import matplotlib.pyplot as plt\n",
            "    \n",
            "        a = np.arange(4)\n",
            "        p = np.linspace(0, 100, 6001)\n",
            "        ax = plt.gca()\n",
            "        lines = [\n",
            "            ('linear', None),\n",
            "            ('higher', '--'),\n",
            "            ('lower', '--'),\n",
            "            ('nearest', '-.'),\n",
            "            ('midpoint', '-.'),\n",
            "        ]\n",
            "        for interpolation, style in lines:\n",
            "            ax.plot(\n",
            "                p, np.percentile(a, p, interpolation=interpolation),\n",
            "                label=interpolation, linestyle=style)\n",
            "        ax.set(\n",
            "            title='Interpolation methods for list: ' + str(a),\n",
            "            xlabel='Percentile',\n",
            "            ylabel='List item returned',\n",
            "            yticks=a)\n",
            "        ax.legend()\n",
            "        plt.show()\n",
            "\n"
          ],
          "name": "stdout"
        }
      ]
    },
    {
      "cell_type": "code",
      "metadata": {
        "id": "HZY2jnIzthXz",
        "outputId": "44381d75-d1ed-4cb2-8c85-47f329514a83",
        "colab": {
          "base_uri": "https://localhost:8080/"
        }
      },
      "source": [
        "# a = np.array([1,2,3,4,5,6])\n",
        "# print(a.shape)\n",
        "# b= [0,2,3]\n",
        "# a[b]\n",
        "total_spikes_per_neuron_np = np.array(total_spikes_per_neuron)"
      ],
      "execution_count": 55,
      "outputs": [
        {
          "output_type": "stream",
          "text": [
            "(6,)\n"
          ],
          "name": "stdout"
        }
      ]
    },
    {
      "cell_type": "code",
      "metadata": {
        "id": "RJf3gxVXmA_A",
        "outputId": "08f083c8-5b2c-494f-a43c-1a7ab4351871",
        "colab": {
          "base_uri": "https://localhost:8080/"
        }
      },
      "source": [
        "# np.shape(total_spikes_per_neuron[percentile_25_spike_count])\n",
        "\n",
        "ind25 = np.where(total_spikes_per_neuron_np>=percentile_25_spike_count )\n",
        "listind25=ind25[0]\n",
        "k = total_spikes_per_neuron_np[listind25]\n",
        "# np.shape(listind25)\n",
        "# print(total_spikes_per_neuron_np[listind25])\n",
        "ind75 = np.where(k<=percentile_75_spike_count)\n",
        "ind75[0]\n",
        "print(np.shape(ind75[0]))\n",
        "diffcolor = k[ind75[0]]"
      ],
      "execution_count": 65,
      "outputs": [
        {
          "output_type": "stream",
          "text": [
            "(366,)\n"
          ],
          "name": "stdout"
        }
      ]
    },
    {
      "cell_type": "code",
      "metadata": {
        "execution": {
          "iopub.execute_input": "2021-07-03T17:54:21.567423Z",
          "iopub.status.busy": "2021-07-03T17:54:21.566322Z",
          "iopub.status.idle": "2021-07-03T17:54:21.931828Z",
          "shell.execute_reply": "2021-07-03T17:54:21.932371Z"
        },
        "pycharm": {
          "name": "#%%\n"
        },
        "id": "J6LIJs2FjSvs",
        "outputId": "5986b9ad-6558-4873-8571-a45b657ec045",
        "colab": {
          "base_uri": "https://localhost:8080/",
          "height": 430
        }
      },
      "source": [
        "# to_remove solution\n",
        "\n",
        "# Compute median spike count\n",
        "median_spike_count = np.median(total_spikes_per_neuron)  # Hint: Try the function np.median\n",
        "percentile_25_spike_count = np.percentile(total_spikes_per_neuron,25)\n",
        "percentile_75_spike_count = np.percentile(total_spikes_per_neuron,75)\n",
        "# Visualize median, mean, and histogram\n",
        "with plt.xkcd():\n",
        "  plt.hist(total_spikes_per_neuron, bins=50, histtype=\"stepfilled\")\n",
        "  plt.hist(diffcolor,bins=50,histtype=\"stepfilled\",color=\"grey\")\n",
        "  plt.axvline(median_spike_count, color=\"limegreen\", label=\"Median neuron\")\n",
        "  plt.axvline(mean_spike_count, color=\"orange\", label=\"Mean neuron\")\n",
        "  plt.axvline(percentile_25_spike_count,color=\"grey\",label=\"IQ range\")\n",
        "  plt.axvline(percentile_75_spike_count,color=\"grey\")\n",
        "  plt.xlabel(\"Total spikes per neuron\")\n",
        "  plt.ylabel(\"Number of neurons\")\n",
        "  plt.legend()"
      ],
      "execution_count": 67,
      "outputs": [
        {
          "output_type": "display_data",
          "data": {
            "image/png": "[encoded data removed]",
            "text/plain": [
              "<Figure size 576x432 with 1 Axes>"
            ]
          },
          "metadata": {
            "tags": [],
            "image/png": {
              "width": 557,
              "height": 413
            }
          }
        }
      ]
    },
    {
      "cell_type": "markdown",
      "metadata": {
        "id": "bMqRYNBZjSvs"
      },
      "source": [
        "\n",
        "*Bonus:* The median is the 50th percentile. What about other percentiles? Can you show the interquartile range on the histogram?"
      ]
    },
    {
      "cell_type": "markdown",
      "metadata": {
        "id": "XQRMI1OHjSvu"
      },
      "source": [
        "---\n",
        "\n",
        "# Section 2: Visualizing neuronal spiking activity\n",
        "\n",
        "*Estimated timing to here from start of tutorial: 15 min*"
      ]
    },
    {
      "cell_type": "markdown",
      "metadata": {
        "id": "_gSwFCzDjSvu"
      },
      "source": [
        "## Section 2.1: Getting a subset of the data\n",
        "\n",
        "Now we'll visualize trains of spikes. Because the recordings are long, we will first define a short time interval and restrict the visualization to only the spikes in this interval. We defined a helper function, `restrict_spike_times`, to do this for you. If you call `help()` on the function, it will tell you a little bit about itself:"
      ]
    },
    {
      "cell_type": "code",
      "metadata": {
        "cellView": "form",
        "execution": {
          "iopub.execute_input": "2021-07-03T17:54:21.939391Z",
          "iopub.status.busy": "2021-07-03T17:54:21.938026Z",
          "iopub.status.idle": "2021-07-03T17:54:21.940041Z",
          "shell.execute_reply": "2021-07-03T17:54:21.940561Z"
        },
        "id": "U36S9A8BjSvv"
      },
      "source": [
        "# @markdown Execute this cell for helper function `restrict_spike_times`\n",
        "def restrict_spike_times(spike_times, interval):\n",
        "  \"\"\"Given a spike_time dataset, restrict to spikes within given interval.\n",
        "\n",
        "  Args:\n",
        "    spike_times (sequence of np.ndarray): List or array of arrays,\n",
        "      each inner array has spike times for a single neuron.\n",
        "    interval (tuple): Min, max time values; keep min <= t < max.\n",
        "\n",
        "  Returns:\n",
        "    np.ndarray: like `spike_times`, but only within `interval`\n",
        "  \"\"\"\n",
        "  interval_spike_times = []\n",
        "  for spikes in spike_times:\n",
        "    interval_mask = (spikes >= interval[0]) & (spikes < interval[1])\n",
        "    interval_spike_times.append(spikes[interval_mask])\n",
        "  return np.array(interval_spike_times, object)"
      ],
      "execution_count": 84,
      "outputs": []
    },
    {
      "cell_type": "code",
      "metadata": {
        "execution": {
          "iopub.execute_input": "2021-07-03T17:54:21.946273Z",
          "iopub.status.busy": "2021-07-03T17:54:21.944852Z",
          "iopub.status.idle": "2021-07-03T17:54:21.948195Z",
          "shell.execute_reply": "2021-07-03T17:54:21.947642Z"
        },
        "pycharm": {
          "name": "#%%\n"
        },
        "id": "dtQLFid5jSvv",
        "outputId": "2df984f2-6b58-4e1b-9487-cca6151094d4",
        "colab": {
          "base_uri": "https://localhost:8080/"
        }
      },
      "source": [
        "help(restrict_spike_times)"
      ],
      "execution_count": 85,
      "outputs": [
        {
          "output_type": "stream",
          "text": [
            "Help on function restrict_spike_times in module __main__:\n",
            "\n",
            "restrict_spike_times(spike_times, interval)\n",
            "    Given a spike_time dataset, restrict to spikes within given interval.\n",
            "    \n",
            "    Args:\n",
            "      spike_times (sequence of np.ndarray): List or array of arrays,\n",
            "        each inner array has spike times for a single neuron.\n",
            "      interval (tuple): Min, max time values; keep min <= t < max.\n",
            "    \n",
            "    Returns:\n",
            "      np.ndarray: like `spike_times`, but only within `interval`\n",
            "\n"
          ],
          "name": "stdout"
        }
      ]
    },
    {
      "cell_type": "code",
      "metadata": {
        "execution": {
          "iopub.execute_input": "2021-07-03T17:54:21.952491Z",
          "iopub.status.busy": "2021-07-03T17:54:21.951885Z",
          "iopub.status.idle": "2021-07-03T17:54:21.967180Z",
          "shell.execute_reply": "2021-07-03T17:54:21.966623Z"
        },
        "pycharm": {
          "name": "#%%\n"
        },
        "id": "sj5O-2UXjSvw"
      },
      "source": [
        "t_interval = (5, 15)  # units are seconds after start of recording\n",
        "interval_spike_times = restrict_spike_times(spike_times, t_interval)"
      ],
      "execution_count": 99,
      "outputs": []
    },
    {
      "cell_type": "markdown",
      "metadata": {
        "id": "EspepFOzjSvw"
      },
      "source": [
        "Is this a representative interval? What fraction of the total spikes fall in this interval?"
      ]
    },
    {
      "cell_type": "code",
      "metadata": {
        "execution": {
          "iopub.execute_input": "2021-07-03T17:54:21.973917Z",
          "iopub.status.busy": "2021-07-03T17:54:21.972504Z",
          "iopub.status.idle": "2021-07-03T17:54:21.976061Z",
          "shell.execute_reply": "2021-07-03T17:54:21.975519Z"
        },
        "pycharm": {
          "name": "#%%\n"
        },
        "id": "qzlDgmc5jSvw",
        "outputId": "f4ad59ae-ef5b-4af5-bb51-87d4e40fc163",
        "colab": {
          "base_uri": "https://localhost:8080/"
        }
      },
      "source": [
        "original_counts = sum([len(spikes) for spikes in spike_times])\n",
        "interval_counts = sum([len(spikes) for spikes in interval_spike_times])\n",
        "frac_interval_spikes = interval_counts / original_counts\n",
        "print(f\"{frac_interval_spikes:.2%} of the total spikes are in the interval\")"
      ],
      "execution_count": 100,
      "outputs": [
        {
          "output_type": "stream",
          "text": [
            "0.33% of the total spikes are in the interval\n"
          ],
          "name": "stdout"
        }
      ]
    },
    {
      "cell_type": "markdown",
      "metadata": {
        "id": "OeCdQFaLjSvx"
      },
      "source": [
        "How does this compare to the ratio between the interval duration and the experiment duration? (What fraction of the total time is in this interval?)\n",
        "\n",
        "We can approximate the experiment duration by taking the minimum and maximum spike time in the whole dataset. To do that, we \"concatenate\" all of the neurons into one array and then use `np.ptp` (\"peak-to-peak\") to get the difference between the maximum and minimum value:"
      ]
    },
    {
      "cell_type": "code",
      "metadata": {
        "execution": {
          "iopub.execute_input": "2021-07-03T17:54:21.980602Z",
          "iopub.status.busy": "2021-07-03T17:54:21.980011Z",
          "iopub.status.idle": "2021-07-03T17:54:21.999935Z",
          "shell.execute_reply": "2021-07-03T17:54:22.000568Z"
        },
        "pycharm": {
          "name": "#%%\n"
        },
        "id": "K19Nb99jjSvx",
        "outputId": "c29f64d1-a477-4536-a52d-ce7598c902fc",
        "colab": {
          "base_uri": "https://localhost:8080/"
        }
      },
      "source": [
        "spike_times_flat = np.concatenate(spike_times)\n",
        "# print(max(spike_times_flat)- min(spike_times_flat))\n",
        "experiment_duration = np.ptp(spike_times_flat)\n",
        "# print(experiment_duration)\n",
        "interval_duration = t_interval[1] - t_interval[0]\n",
        "\n",
        "frac_interval_time = interval_duration / experiment_duration\n",
        "print(f\"{frac_interval_time:.2%} of the total time is in the interval\")"
      ],
      "execution_count": 101,
      "outputs": [
        {
          "output_type": "stream",
          "text": [
            "0.37% of the total time is in the interval\n"
          ],
          "name": "stdout"
        }
      ]
    },
    {
      "cell_type": "markdown",
      "metadata": {
        "id": "32W2uLCDjSv1"
      },
      "source": [
        "These two values—the fraction of total spikes and the fraction of total time—are similar. This suggests the average spike rate of the neuronal population is not very different in this interval compared to the entire recording.\n",
        "\n",
        "## Section 2.2: Plotting spike trains and rasters\n",
        "\n",
        "Now that we have a representative subset, we're ready to plot the spikes, using the matplotlib `plt.eventplot` function. Let's look at a single neuron first:"
      ]
    },
    {
      "cell_type": "code",
      "metadata": {
        "execution": {
          "iopub.execute_input": "2021-07-03T17:54:22.019853Z",
          "iopub.status.busy": "2021-07-03T17:54:22.019192Z",
          "iopub.status.idle": "2021-07-03T17:54:22.196514Z",
          "shell.execute_reply": "2021-07-03T17:54:22.195642Z"
        },
        "pycharm": {
          "name": "#%%\n"
        },
        "id": "aiV4U73ZjSv4",
        "outputId": "2617ed94-fbd7-4b92-c452-798becac2d68",
        "colab": {
          "base_uri": "https://localhost:8080/",
          "height": 431
        }
      },
      "source": [
        "neuron_idx = 1\n",
        "plt.eventplot(interval_spike_times[neuron_idx], color=\".2\")\n",
        "plt.xlabel(\"Time (s)\")\n",
        "plt.yticks([]);"
      ],
      "execution_count": 95,
      "outputs": [
        {
          "output_type": "display_data",
          "data": {
            "image/png": "[encoded data removed]",
            "text/plain": [
              "<Figure size 576x432 with 1 Axes>"
            ]
          },
          "metadata": {
            "tags": [],
            "image/png": {
              "width": 557,
              "height": 414
            },
            "needs_background": "light"
          }
        }
      ]
    },
    {
      "cell_type": "markdown",
      "metadata": {
        "id": "qTcZppnDjSv4"
      },
      "source": [
        "We can also plot multiple neurons. Here are three:"
      ]
    },
    {
      "cell_type": "code",
      "metadata": {
        "execution": {
          "iopub.execute_input": "2021-07-03T17:54:22.270761Z",
          "iopub.status.busy": "2021-07-03T17:54:22.270162Z",
          "iopub.status.idle": "2021-07-03T17:54:22.424884Z",
          "shell.execute_reply": "2021-07-03T17:54:22.423869Z"
        },
        "pycharm": {
          "name": "#%%\n"
        },
        "id": "k3o12N9ujSv5",
        "outputId": "fd2c5897-ef78-446d-c090-2f9e799e8ed4",
        "colab": {
          "base_uri": "https://localhost:8080/",
          "height": 430
        }
      },
      "source": [
        "neuron_idx = [1, 11, 51]\n",
        "plt.eventplot(interval_spike_times[neuron_idx], color=\".2\")\n",
        "plt.xlabel(\"Time (s)\")\n",
        "plt.yticks([]);"
      ],
      "execution_count": 102,
      "outputs": [
        {
          "output_type": "display_data",
          "data": {
            "image/png": "[encoded data removed]",
            "text/plain": [
              "<Figure size 576x432 with 1 Axes>"
            ]
          },
          "metadata": {
            "tags": [],
            "image/png": {
              "width": 557,
              "height": 413
            },
            "needs_background": "light"
          }
        }
      ]
    },
    {
      "cell_type": "markdown",
      "metadata": {
        "id": "jHPg0qYYjSv5"
      },
      "source": [
        "This makes a \"raster\" plot, where the spikes from each neuron appear in a different row.\n",
        "\n",
        "Plotting a large number of neurons can give you a sense for the characteristics in the population. Let's show every 5th neuron that was recorded:"
      ]
    },
    {
      "cell_type": "code",
      "metadata": {
        "execution": {
          "iopub.execute_input": "2021-07-03T17:54:22.439900Z",
          "iopub.status.busy": "2021-07-03T17:54:22.438828Z",
          "iopub.status.idle": "2021-07-03T17:54:22.879608Z",
          "shell.execute_reply": "2021-07-03T17:54:22.878363Z"
        },
        "pycharm": {
          "name": "#%%\n"
        },
        "id": "23nB30iIjSv5",
        "outputId": "f8863a9b-1865-4492-9b8e-5491109e24aa",
        "colab": {
          "base_uri": "https://localhost:8080/",
          "height": 431
        }
      },
      "source": [
        "neuron_idx = np.arange(0, len(spike_times), 5)\n",
        "plt.eventplot(interval_spike_times[neuron_idx], color=\".2\")\n",
        "plt.xlabel(\"Time (s)\")\n",
        "plt.yticks([]);"
      ],
      "execution_count": 107,
      "outputs": [
        {
          "output_type": "display_data",
          "data": {
            "image/png": "[encoded data removed]",
            "text/plain": [
              "<Figure size 576x432 with 1 Axes>"
            ]
          },
          "metadata": {
            "tags": [],
            "image/png": {
              "width": 558,
              "height": 414
            },
            "needs_background": "light"
          }
        }
      ]
    },
    {
      "cell_type": "markdown",
      "metadata": {
        "id": "37zEUjUfjSv6"
      },
      "source": [
        "*Question*: How does the information in this plot relate to the histogram of total spike counts that you saw above?"
      ]
    },
    {
      "cell_type": "code",
      "metadata": {
        "execution": {
          "iopub.execute_input": "2021-07-03T17:54:22.884637Z",
          "iopub.status.busy": "2021-07-03T17:54:22.883994Z",
          "iopub.status.idle": "2021-07-03T17:54:22.889216Z",
          "shell.execute_reply": "2021-07-03T17:54:22.890231Z"
        },
        "id": "iknH23R_jSv6",
        "outputId": "b9f47611-642f-44d8-a300-76f76dbf2f9a",
        "colab": {
          "base_uri": "https://localhost:8080/",
          "height": 53
        }
      },
      "source": [
        "# to_remove explanation\n",
        "\n",
        "\"\"\"\n",
        "The above histogram is the distribution (across neurons) of the cumulative sum of\n",
        "all individual neurons' total spike count, i.e. sum across each row in the raster plot.\n",
        "\"\"\""
      ],
      "execution_count": 105,
      "outputs": [
        {
          "output_type": "execute_result",
          "data": {
            "application/vnd.google.colaboratory.intrinsic+json": {
              "type": "string"
            },
            "text/plain": [
              "\"\\nThe above histogram is the distribution (across neurons) of the cumulative sum of\\nall individual neurons' total spike count, i.e. sum across each row in the raster plot.\\n\""
            ]
          },
          "metadata": {
            "tags": []
          },
          "execution_count": 105
        }
      ]
    },
    {
      "cell_type": "code",
      "metadata": {
        "cellView": "form",
        "execution": {
          "iopub.execute_input": "2021-07-03T17:54:22.903300Z",
          "iopub.status.busy": "2021-07-03T17:54:22.902309Z",
          "iopub.status.idle": "2021-07-03T17:54:22.968449Z",
          "shell.execute_reply": "2021-07-03T17:54:22.967927Z"
        },
        "id": "WBZPOPKyjSv7",
        "outputId": "1c893594-ff10-4482-82a1-f64cbd6fc489",
        "colab": {
          "base_uri": "https://localhost:8080/",
          "height": 581,
          "referenced_widgets": [
            "ed36fc4a160c44a58161907497cd08c7",
            "9fa0e989bae149b78ed82b6a9683ac7f",
            "fb8cf92a0a9846f985b97c4f7975eb3f",
            "e6617e9cef1a49b68be0572e8053bf56",
            "ec231abd109b4cffbd0dc854feb87b33",
            "7dcc3be3c51c49b28df7e8100ad4b76e"
          ]
        }
      },
      "source": [
        "# @title Video 3: Visualizing activity\n",
        "from ipywidgets import widgets\n",
        "\n",
        "out2 = widgets.Output()\n",
        "with out2:\n",
        "  from IPython.display import IFrame\n",
        "  class BiliVideo(IFrame):\n",
        "      def __init__(self, id, page=1, width=400, height=300, **kwargs):\n",
        "          self.id=id\n",
        "          src = 'https://player.bilibili.com/player.html?bvid={0}&page={1}'.format(id, page)\n",
        "          super(BiliVideo, self).__init__(src, width, height, **kwargs)\n",
        "\n",
        "  video = BiliVideo(id=\"BV1dt4y1Q7C5\", width=854, height=480, fs=1)\n",
        "  print('Video available at https://www.bilibili.com/video/{0}'.format(video.id))\n",
        "  display(video)\n",
        "\n",
        "out1 = widgets.Output()\n",
        "with out1:\n",
        "  from IPython.display import YouTubeVideo\n",
        "  video = YouTubeVideo(id=\"QGA5FCW7kkA\", width=854, height=480, fs=1, rel=0)\n",
        "  print('Video available at https://youtube.com/watch?v=' + video.id)\n",
        "  display(video)\n",
        "\n",
        "out = widgets.Tab([out1, out2])\n",
        "out.set_title(0, 'Youtube')\n",
        "out.set_title(1, 'Bilibili')\n",
        "\n",
        "display(out)"
      ],
      "execution_count": 104,
      "outputs": [
        {
          "output_type": "display_data",
          "data": {
            "application/vnd.jupyter.widget-view+json": {
              "model_id": "ed36fc4a160c44a58161907497cd08c7",
              "version_minor": 0,
              "version_major": 2
            },
            "text/plain": [
              "Tab(children=(Output(), Output()), _titles={'0': 'Youtube', '1': 'Bilibili'})"
            ]
          },
          "metadata": {
            "tags": []
          }
        }
      ]
    },
    {
      "cell_type": "markdown",
      "metadata": {
        "id": "ts97pbG_jSv7"
      },
      "source": [
        "---\n",
        "\n",
        "# Section 3: Inter-spike intervals and their distributions\n",
        "\n",
        "*Estimated timing to here from start of tutorial: 25 min*"
      ]
    },
    {
      "cell_type": "markdown",
      "metadata": {
        "id": "eY2xqLjTjSv8"
      },
      "source": [
        "Given the ordered arrays of spike times for each neuron in `spike_times`, which we've just visualized, what can we ask next?\n",
        "\n",
        "Scientific questions are informed by existing models. So, what knowledge do we already have that can inform questions about this data?\n",
        "\n",
        "We know that there are physical constraints on neuron spiking. Spiking costs energy, which the neuron's cellular machinery can only obtain at a finite rate. Therefore neurons should have a refractory period: they can only fire as quickly as their metabolic processes can support, and there is a minimum delay between consecutive spikes of the same neuron.\n",
        "\n",
        "More generally, we can ask \"how long does a neuron wait to spike again?\" or \"what is the longest a neuron will wait?\" Can we transform spike times into something else, to address questions like these more directly?\n",
        "\n",
        "We can consider the inter-spike times (or interspike intervals: ISIs). These are simply the time differences between consecutive spikes of the same neuron.\n",
        "\n",
        "### Exercise 3: Plot the distribution of ISIs for a single neuron\n",
        "\n",
        "*Exercise objective:* make a histogram, like we did for spike counts, to show the distribution of ISIs for one of the neurons in the dataset.\n",
        "\n",
        "Do this in three steps:\n",
        "\n",
        "1. Extract the spike times for one of the neurons\n",
        "2. Compute the ISIs (the amount of time between spikes, or equivalently, the difference between adjacent spike times)\n",
        "3. Plot a histogram with the array of individual ISIs"
      ]
    },
    {
      "cell_type": "code",
      "metadata": {
        "execution": {
          "iopub.execute_input": "2021-07-03T17:54:22.982203Z",
          "iopub.status.busy": "2021-07-03T17:54:22.981593Z",
          "iopub.status.idle": "2021-07-03T17:54:22.989786Z",
          "shell.execute_reply": "2021-07-03T17:54:22.989137Z"
        },
        "pycharm": {
          "name": "#%%\n"
        },
        "id": "Zj0t39TQjSwA",
        "outputId": "ba6ae9e4-f28a-4397-d2f9-5459ea266d6e",
        "colab": {
          "base_uri": "https://localhost:8080/",
          "height": 447
        }
      },
      "source": [
        "def compute_single_neuron_isis(spike_times, neuron_idx):\n",
        "  \"\"\"Compute a vector of ISIs for a single neuron given spike times.\n",
        "\n",
        "  Args:\n",
        "    spike_times (list of 1D arrays): Spike time dataset, with the first\n",
        "      dimension corresponding to different neurons.\n",
        "    neuron_idx (int): Index of the unit to compute ISIs for.\n",
        "\n",
        "  Returns:\n",
        "    isis (1D array): Duration of time between each spike from one neuron.\n",
        "  \"\"\"\n",
        "  #############################################################################\n",
        "  # Students: Fill in missing code (...) and comment or remove the next line\n",
        "  # raise NotImplementedError(\"Exercise: compute single neuron ISIs\")\n",
        "  #############################################################################\n",
        "\n",
        "  # Extract the spike times for the specified neuron\n",
        "  single_neuron_spikes = spike_times[neuron_idx]\n",
        "\n",
        "  # Compute the ISIs for this set of spikes\n",
        "  # Hint: the function np.diff computes discrete differences along an array\n",
        "  isis = np.diff(single_neuron_spikes)\n",
        "\n",
        "  return isis\n",
        "\n",
        "# Compute ISIs\n",
        "single_neuron_isis = compute_single_neuron_isis(spike_times, neuron_idx=283)\n",
        "\n",
        "# Visualize ISIs\n",
        "plot_isis(single_neuron_isis)\n",
        "print(np.mean(single_neuron_isis))"
      ],
      "execution_count": 112,
      "outputs": [
        {
          "output_type": "stream",
          "text": [
            "0.023402805\n"
          ],
          "name": "stdout"
        },
        {
          "output_type": "display_data",
          "data": {
            "image/png": "[encoded data removed]",
            "text/plain": [
              "<Figure size 576x432 with 1 Axes>"
            ]
          },
          "metadata": {
            "tags": [],
            "image/png": {
              "width": 558,
              "height": 413
            },
            "needs_background": "light"
          }
        }
      ]
    },
    {
      "cell_type": "code",
      "metadata": {
        "execution": {
          "iopub.execute_input": "2021-07-03T17:54:22.998186Z",
          "iopub.status.busy": "2021-07-03T17:54:22.997577Z",
          "iopub.status.idle": "2021-07-03T17:54:23.356486Z",
          "shell.execute_reply": "2021-07-03T17:54:23.355980Z"
        },
        "pycharm": {
          "name": "#%%\n"
        },
        "id": "h4bCxL40jSwB",
        "outputId": "37d8e8fc-c6af-4b4e-8369-befbba3aa65b",
        "colab": {
          "base_uri": "https://localhost:8080/",
          "height": 431
        }
      },
      "source": [
        "# to_remove solution\n",
        "def compute_single_neuron_isis(spike_times, neuron_idx):\n",
        "  \"\"\"Compute a vector of ISIs for a single neuron given spike times.\n",
        "\n",
        "  Args:\n",
        "    spike_times (list of 1D arrays): Spike time dataset, with the first\n",
        "      dimension corresponding to different neurons.\n",
        "    neuron_idx (int): Index of the unit to compute ISIs for.\n",
        "\n",
        "  Returns:\n",
        "    isis (1D array): Duration of time between each spike from one neuron.\n",
        "  \"\"\"\n",
        "  # Extract the spike times for the specified neuron\n",
        "  single_neuron_spikes = spike_times[neuron_idx]\n",
        "\n",
        "  # Compute the ISIs for this set of spikes\n",
        "  # Hint: the function np.diff computes discrete differences along an array\n",
        "  isis = np.diff(single_neuron_spikes)\n",
        "\n",
        "  return isis\n",
        "\n",
        "# Compute ISIs\n",
        "single_neuron_isis = compute_single_neuron_isis(spike_times, neuron_idx=283)\n",
        "\n",
        "# Visualize ISIs\n",
        "with plt.xkcd():\n",
        "  plot_isis(single_neuron_isis)"
      ],
      "execution_count": 114,
      "outputs": [
        {
          "output_type": "display_data",
          "data": {
            "image/png": "[encoded data removed]",
            "text/plain": [
              "<Figure size 576x432 with 1 Axes>"
            ]
          },
          "metadata": {
            "tags": [],
            "image/png": {
              "width": 558,
              "height": 414
            }
          }
        }
      ]
    },
    {
      "cell_type": "markdown",
      "metadata": {
        "id": "9Pcvi_PrjSwC"
      },
      "source": [
        "---\n",
        "\n",
        "In general, the shorter ISIs are predominant, with counts decreasing rapidly (and smoothly, more or less) with increasing ISI. However, counts also rapidly decrease to zero with _decreasing_ ISI below the maximum of the distribution (8-11 ms). The absence of these very low ISIs agrees with the refractory period hypothesis: the neuron cannot fire quickly enough to populate this region of the ISI distribution.\n",
        "\n",
        "Check the distributions of some other neurons. To resolve various features of the distributions, you might need to play with the value of `n_bins`. Using too few bins might smooth over interesting details, but if you use too many bins, the random variability will start to dominate.\n",
        "\n",
        "You might also want to restrict the range to see the shape of the distribution when focusing on relatively short or long ISIs. *Hint:* `plt.hist` takes a `range` argument"
      ]
    },
    {
      "cell_type": "markdown",
      "metadata": {
        "id": "hBF-hrhDjSwH"
      },
      "source": [
        "---\n",
        "\n",
        "# Section 4: What is the functional form of an ISI distribution?\n",
        "\n",
        "*Estimated timing to here from start of tutorial: 35 min*"
      ]
    },
    {
      "cell_type": "code",
      "metadata": {
        "cellView": "form",
        "execution": {
          "iopub.execute_input": "2021-07-03T17:54:23.369679Z",
          "iopub.status.busy": "2021-07-03T17:54:23.369060Z",
          "iopub.status.idle": "2021-07-03T17:54:23.429414Z",
          "shell.execute_reply": "2021-07-03T17:54:23.428823Z"
        },
        "id": "QeX8WcsKjSwJ",
        "outputId": "02e5aa38-d877-4db7-8577-63e0151d2c4c",
        "colab": {
          "base_uri": "https://localhost:8080/",
          "height": 581,
          "referenced_widgets": [
            "64a29bb7b2b14dc69fc3631e4054d7b2",
            "5e7cd07e6d4f472c86901c0cd134c2c6",
            "04b4128d91134b7a8d80ff9f98b76db4",
            "6920db2b520746d8af410a54ca78f27b",
            "02d3079ea5d948c1ab91b1120fd4df20",
            "05e61a468a844d089792eaf480d1f6f5"
          ]
        }
      },
      "source": [
        "# @title Video 4: ISI distribution\n",
        "from ipywidgets import widgets\n",
        "\n",
        "out2 = widgets.Output()\n",
        "with out2:\n",
        "  from IPython.display import IFrame\n",
        "  class BiliVideo(IFrame):\n",
        "      def __init__(self, id, page=1, width=400, height=300, **kwargs):\n",
        "          self.id=id\n",
        "          src = 'https://player.bilibili.com/player.html?bvid={0}&page={1}'.format(id, page)\n",
        "          super(BiliVideo, self).__init__(src, width, height, **kwargs)\n",
        "\n",
        "  video = BiliVideo(id=\"BV1ov411B7Pm\", width=854, height=480, fs=1)\n",
        "  print('Video available at https://www.bilibili.com/video/{0}'.format(video.id))\n",
        "  display(video)\n",
        "\n",
        "out1 = widgets.Output()\n",
        "with out1:\n",
        "  from IPython.display import YouTubeVideo\n",
        "  video = YouTubeVideo(id=\"DHhM80MOTe8\", width=854, height=480, fs=1, rel=0)\n",
        "  print('Video available at https://youtube.com/watch?v=' + video.id)\n",
        "  display(video)\n",
        "\n",
        "out = widgets.Tab([out1, out2])\n",
        "out.set_title(0, 'Youtube')\n",
        "out.set_title(1, 'Bilibili')\n",
        "\n",
        "display(out)"
      ],
      "execution_count": 115,
      "outputs": [
        {
          "output_type": "display_data",
          "data": {
            "application/vnd.jupyter.widget-view+json": {
              "model_id": "64a29bb7b2b14dc69fc3631e4054d7b2",
              "version_minor": 0,
              "version_major": 2
            },
            "text/plain": [
              "Tab(children=(Output(), Output()), _titles={'0': 'Youtube', '1': 'Bilibili'})"
            ]
          },
          "metadata": {
            "tags": []
          }
        }
      ]
    },
    {
      "cell_type": "markdown",
      "metadata": {
        "id": "sZQL_27BjSwJ"
      },
      "source": [
        "The ISI histograms seem to follow continuous, monotonically decreasing functions above their maxima. The function is clearly non-linear. Could it belong to a single family of functions?\n",
        "\n",
        "To motivate the idea of using a mathematical function to explain physiological phenomena, let's define a few different function forms that we might expect the relationship to follow: exponential, inverse, and linear."
      ]
    },
    {
      "cell_type": "code",
      "metadata": {
        "execution": {
          "iopub.execute_input": "2021-07-03T17:54:23.445271Z",
          "iopub.status.busy": "2021-07-03T17:54:23.443840Z",
          "iopub.status.idle": "2021-07-03T17:54:23.446205Z",
          "shell.execute_reply": "2021-07-03T17:54:23.446819Z"
        },
        "pycharm": {
          "name": "#%%\n"
        },
        "id": "DxmyJi14jSwK"
      },
      "source": [
        "def exponential(xs, scale, rate, x0):\n",
        "  \"\"\"A simple parametrized exponential function, applied element-wise.\n",
        "\n",
        "  Args:\n",
        "    xs (np.ndarray or float): Input(s) to the function.\n",
        "    scale (float): Linear scaling factor.\n",
        "    rate (float): Exponential growth (positive) or decay (negative) rate.\n",
        "    x0 (float): Horizontal offset.\n",
        "\n",
        "  \"\"\"\n",
        "  ys = scale * np.exp(rate * (xs - x0))\n",
        "  return ys\n",
        "\n",
        "def inverse(xs, scale, x0):\n",
        "  \"\"\"A simple parametrized inverse function (`1/x`), applied element-wise.\n",
        "\n",
        "  Args:\n",
        "    xs (np.ndarray or float): Input(s) to the function.\n",
        "    scale (float): Linear scaling factor.\n",
        "    x0 (float): Horizontal offset.\n",
        "\n",
        "  \"\"\"\n",
        "  ys = scale / (xs - x0)\n",
        "  return ys\n",
        "\n",
        "def linear(xs, slope, y0):\n",
        "  \"\"\"A simple linear function, applied element-wise.\n",
        "\n",
        "  Args:\n",
        "    xs (np.ndarray or float): Input(s) to the function.\n",
        "    slope (float): Slope of the line.\n",
        "    y0 (float): y-intercept of the line.\n",
        "\n",
        "  \"\"\"\n",
        "  ys = slope * xs + y0\n",
        "  return ys"
      ],
      "execution_count": 116,
      "outputs": []
    },
    {
      "cell_type": "markdown",
      "metadata": {
        "id": "u7Nxo8WDjSwK"
      },
      "source": [
        "### Interactive Demo 4: ISI functions explorer\n",
        "\n",
        "Here is an interactive demo where you can vary the parameters of these functions and see how well the resulting outputs correspond to the data. Adjust the parameters by moving the sliders and see how close you can get the lines to follow the falling curve of the histogram. This will give you a taste of what you're trying to do when you *fit a model* to data.\n",
        "\n",
        "\"Interactive demo\" cells have hidden code that defines an interface where you can play with the parameters of some function using sliders. You don't need to worry about how the code works – but you do need to **run the cell** to enable the sliders.\n",
        "\n",
        "- Which type of function (exponential/inverse/linear) can you make match the data best?\n"
      ]
    },
    {
      "cell_type": "code",
      "metadata": {
        "cellView": "form",
        "execution": {
          "iopub.execute_input": "2021-07-03T17:54:23.458648Z",
          "iopub.status.busy": "2021-07-03T17:54:23.454106Z",
          "iopub.status.idle": "2021-07-03T17:54:23.875898Z",
          "shell.execute_reply": "2021-07-03T17:54:23.876365Z"
        },
        "pycharm": {
          "name": "#%%\n"
        },
        "id": "SxbSMY1gjSwL",
        "outputId": "c86d933a-6226-47cd-de54-ffe3818387d6",
        "colab": {
          "base_uri": "https://localhost:8080/",
          "height": 654,
          "referenced_widgets": [
            "78113d9589bf495abb9079ebff3f6e30",
            "e98da0eb2f6440f0a99a8609bfd604a1",
            "8f49b2c7a9bf4aa984548a695e21727d",
            "728965c33c6b4056a1cf3d1678255014",
            "93a730c2ec7b40e4900383de1fdb6dd7",
            "000061db85b544c8937aba64b86c173b",
            "1730ced066a949cfa6cb501ae348e0bb",
            "ad2e53f41eb848faaaf6e2d23bf67a15",
            "c73cdf473d68469885765be77e540545",
            "28f55776069f46999f2042398ba8d50d",
            "96fd82685a55447ab60f8344c1a8ff24",
            "8ee8a34482c746bca5da4edbd9d0dd05",
            "64ce34efcd144f3e8f8d7a4bb54d254e",
            "f59ca92d268749cc915b2d4231e61052",
            "d4e4c4cf3afc43ffabceacb45875fd7d",
            "a9de28aff2dc4b5d952e755f9af05c31",
            "b8495de2f3544f0f8a4706fa52680a12",
            "7c5cdc1da26e44bfaf962cdef1ac46ba",
            "1e1767b661ba456baf9fe9d15c0aab81",
            "df9b275e0c7f4fdbb28a6075a91ec547",
            "f045d468d23a4f44972253bfe013c2e1",
            "785bd91a6e6847c8b68270ecb3f37f57",
            "d3aa0451bbec4f96981d55e62d7989ad",
            "3f9319440ff14082b58b503bbf072b89",
            "1de50040181d401eaa6fb47b34bd9c38"
          ]
        }
      },
      "source": [
        "#@title\n",
        "\n",
        "#@markdown Be sure to run this cell to enable the demo\n",
        "# Don't worry about understanding this code! It's to setup an interactive plot.\n",
        "single_neuron_idx = 283\n",
        "single_neuron_spikes = spike_times[single_neuron_idx]\n",
        "single_neuron_isis = np.diff(single_neuron_spikes)\n",
        "\n",
        "counts, edges = np.histogram(\n",
        "  single_neuron_isis,\n",
        "  bins=50,\n",
        "  range=(0, single_neuron_isis.max())\n",
        ")\n",
        "\n",
        "functions = dict(\n",
        "  exponential=exponential,\n",
        "  inverse=inverse,\n",
        "  linear=linear,\n",
        ")\n",
        "\n",
        "colors = dict(\n",
        "  exponential=\"C1\",\n",
        "  inverse=\"C2\",\n",
        "  linear=\"C4\",\n",
        ")\n",
        "\n",
        "@widgets.interact(\n",
        "  exp_scale=widgets.FloatSlider(1000, min=0, max=20000, step=250),\n",
        "  exp_rate=widgets.FloatSlider(-10, min=-200, max=50, step=1),\n",
        "  exp_x0=widgets.FloatSlider(0.1, min=-0.5, max=0.5, step=0.005),\n",
        "  inv_scale=widgets.FloatSlider(1000, min=0, max=3e2, step=10),\n",
        "  inv_x0=widgets.FloatSlider(0, min=-0.2, max=0.2, step=0.01),\n",
        "  lin_slope=widgets.FloatSlider(-1e5, min=-6e5, max=1e5, step=10000),\n",
        "  lin_y0=widgets.FloatSlider(10000, min=0, max=4e4, step=1000),\n",
        ")\n",
        "def fit_plot(\n",
        "  exp_scale=1000, exp_rate=-10, exp_x0=0.1,\n",
        "  inv_scale=1000, inv_x0=0,\n",
        "  lin_slope=-1e5, lin_y0=2000,\n",
        "):\n",
        "  \"\"\"Helper function for plotting function fits with interactive sliders.\"\"\"\n",
        "  func_params = dict(\n",
        "    exponential=(exp_scale, exp_rate, exp_x0),\n",
        "    inverse=(inv_scale, inv_x0),\n",
        "    linear=(lin_slope, lin_y0),\n",
        "  )\n",
        "  f, ax = plt.subplots()\n",
        "  ax.fill_between(edges[:-1], counts, step=\"post\", alpha=.5)\n",
        "  xs = np.linspace(1e-10, edges.max())\n",
        "  for name, function in functions.items():\n",
        "    ys = function(xs, *func_params[name])\n",
        "    ax.plot(xs, ys, lw=3, color=colors[name], label=name);\n",
        "  ax.set(\n",
        "      xlim=(edges.min(), edges.max()),\n",
        "      ylim=(0, counts.max() * 1.1),\n",
        "      xlabel=\"ISI (s)\",\n",
        "      ylabel=\"Number of spikes\",\n",
        "  )\n",
        "  ax.legend()"
      ],
      "execution_count": 117,
      "outputs": [
        {
          "output_type": "display_data",
          "data": {
            "application/vnd.jupyter.widget-view+json": {
              "model_id": "78113d9589bf495abb9079ebff3f6e30",
              "version_minor": 0,
              "version_major": 2
            },
            "text/plain": [
              "interactive(children=(FloatSlider(value=1000.0, description='exp_scale', max=20000.0, step=250.0), FloatSlider…"
            ]
          },
          "metadata": {
            "tags": []
          }
        }
      ]
    },
    {
      "cell_type": "code",
      "metadata": {
        "execution": {
          "iopub.execute_input": "2021-07-03T17:54:23.881204Z",
          "iopub.status.busy": "2021-07-03T17:54:23.880570Z",
          "iopub.status.idle": "2021-07-03T17:54:23.884239Z",
          "shell.execute_reply": "2021-07-03T17:54:23.884689Z"
        },
        "id": "Dxs6-VVljSwM"
      },
      "source": [
        "# to_remove explanation\n",
        "\n",
        "\"\"\"\n",
        "The exponential function can be made to fit the data much better than the linear\n",
        "or inverse function.\n",
        "\"\"\""
      ],
      "execution_count": null,
      "outputs": []
    },
    {
      "cell_type": "code",
      "metadata": {
        "cellView": "form",
        "execution": {
          "iopub.execute_input": "2021-07-03T17:54:23.896459Z",
          "iopub.status.busy": "2021-07-03T17:54:23.892167Z",
          "iopub.status.idle": "2021-07-03T17:54:23.957580Z",
          "shell.execute_reply": "2021-07-03T17:54:23.958179Z"
        },
        "id": "SqxBUbm9jSwP",
        "outputId": "f9da0c91-d6f7-42d7-a541-4b045f666237",
        "colab": {
          "base_uri": "https://localhost:8080/",
          "height": 581,
          "referenced_widgets": [
            "be693e6652ff4fd18d4d4403f51b856d",
            "fbb1b0139ba44aa2b03fa70a2f86755a",
            "2f306b6336184234aa8e0ab5ef149bc8",
            "5da2464c75814457a1a33c28725de4aa",
            "4abf6fac1393419298f9f9ea7604a0da",
            "0dea2cae208849ccbbb05b26df296eed"
          ]
        }
      },
      "source": [
        "# @title Video 5: Fitting models by hand\n",
        "from ipywidgets import widgets\n",
        "\n",
        "out2 = widgets.Output()\n",
        "with out2:\n",
        "  from IPython.display import IFrame\n",
        "  class BiliVideo(IFrame):\n",
        "      def __init__(self, id, page=1, width=400, height=300, **kwargs):\n",
        "          self.id=id\n",
        "          src = 'https://player.bilibili.com/player.html?bvid={0}&page={1}'.format(id, page)\n",
        "          super(BiliVideo, self).__init__(src, width, height, **kwargs)\n",
        "\n",
        "  video = BiliVideo(id=\"BV1w54y1S7Eb\", width=854, height=480, fs=1)\n",
        "  print('Video available at https://www.bilibili.com/video/{0}'.format(video.id))\n",
        "  display(video)\n",
        "\n",
        "out1 = widgets.Output()\n",
        "with out1:\n",
        "  from IPython.display import YouTubeVideo\n",
        "  video = YouTubeVideo(id=\"uW2HDk_4-wk\", width=854, height=480, fs=1, rel=0)\n",
        "  print('Video available at https://youtube.com/watch?v=' + video.id)\n",
        "  display(video)\n",
        "\n",
        "out = widgets.Tab([out1, out2])\n",
        "out.set_title(0, 'Youtube')\n",
        "out.set_title(1, 'Bilibili')\n",
        "\n",
        "display(out)"
      ],
      "execution_count": 118,
      "outputs": [
        {
          "output_type": "display_data",
          "data": {
            "application/vnd.jupyter.widget-view+json": {
              "model_id": "be693e6652ff4fd18d4d4403f51b856d",
              "version_minor": 0,
              "version_major": 2
            },
            "text/plain": [
              "Tab(children=(Output(), Output()), _titles={'0': 'Youtube', '1': 'Bilibili'})"
            ]
          },
          "metadata": {
            "tags": []
          }
        }
      ]
    },
    {
      "cell_type": "markdown",
      "metadata": {
        "id": "1ibEj5gujSwR"
      },
      "source": [
        "---\n",
        "# Section 5: Reflecting on what models\n",
        "\n",
        "*Estimated timing to here from start of tutorial: 40 min*"
      ]
    },
    {
      "cell_type": "markdown",
      "metadata": {
        "id": "xr6XkZODjSwS"
      },
      "source": [
        "## Think! 5: Reflecting on what models\n",
        "\n",
        "Please discuss the following questions for around 10 minutes with your group:\n",
        "- Have you seen what models before?\n",
        "- Have you ever done one?\n",
        "- Why are what models useful?\n",
        "- When are they possible? Does your field have what models?\n",
        "- What do we learn from constructing them?"
      ]
    },
    {
      "cell_type": "markdown",
      "metadata": {
        "id": "magjELGSjSwT"
      },
      "source": [
        "---\n",
        "# Summary\n",
        "\n",
        "*Estimated timing of tutorial: 50 minutes*\n",
        "\n",
        "In this tutorial, we loaded some neural data and poked at it to understand how the dataset is organized. Then we made some basic plots to visualize (1) the average level of activity across the population and (2) the distribution of ISIs for an individual neuron. In the very last bit, we started to think about using mathematical formalisms to understand or explain some physiological phenomenon. All of this only allowed us to understand \"What\" the data looks like.\n",
        "\n",
        "This is the first step towards developing models that can tell us something about the brain. That's what we'll focus on in the next two tutorials."
      ]
    }
  ]
}